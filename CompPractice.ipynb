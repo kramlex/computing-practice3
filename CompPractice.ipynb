{
 "cells": [
  {
   "cell_type": "code",
   "execution_count": 18,
   "metadata": {},
   "outputs": [],
   "source": [
    "import numpy as np"
   ]
  },
  {
   "cell_type": "code",
   "execution_count": 19,
   "metadata": {},
   "outputs": [],
   "source": [
    "a = 0.043\n",
    "N = 10\n",
    "M = 10"
   ]
  },
  {
   "cell_type": "code",
   "execution_count": 20,
   "metadata": {},
   "outputs": [
    {
     "name": "stdout",
     "output_type": "stream",
     "text": [
      "0.1 0.1\n"
     ]
    }
   ],
   "source": [
    "h = 1. / N\n",
    "tau = 1. / M\n",
    "\n",
    "sigma = 0.5 - h**2 / (12 * a * tau)\n",
    "\n",
    "print(h , tau)"
   ]
  },
  {
   "cell_type": "code",
   "execution_count": 21,
   "metadata": {},
   "outputs": [],
   "source": [
    "def m0(x) : \n",
    "    return -2 * x*x*x*x - (3*x)*(3*x)*(3*x) + np.exp(x)\n",
    "\n",
    "def m1(t) :\n",
    "    return 1 - t**3\n",
    "    \n",
    "def m2(t) :\n",
    "    return -2 - (3+t)**3 + 3 * t**2 + np.exp(1)\n",
    "\n",
    "def f(x,t) :\n",
    "    return -a * (np.exp(x) - 6 * (9 * t + x * (4 * x + 27) )) - 3 * (t + 3 * x)**2 + 6 * t * x\n",
    "\n",
    "def d2fdxx(x) :\n",
    "    return a * (48 - np.exp(x)) - 54\n",
    "\n",
    "def fAverage(x,t):\n",
    "    return f(x,t) + h * h * d2fdxx(x) / 12.\n",
    "\n",
    "def uAcc(x,t) :\n",
    "    return -2 * x**4 - (3*x + t)**3 + 3* t**2 *x + np.exp(x)"
   ]
  },
  {
   "cell_type": "code",
   "execution_count": 22,
   "metadata": {},
   "outputs": [
    {
     "name": "stdout",
     "output_type": "stream",
     "text": [
      "[[  1.           0.999        0.992        0.973        0.936\n",
      "    0.875        0.784        0.657        0.488        0.271\n",
      "    0.        ]\n",
      " [  1.07797092   0.           0.           0.           0.\n",
      "    0.           0.           0.           0.           0.\n",
      "    0.        ]\n",
      " [  1.00220276   0.           0.           0.           0.\n",
      "    0.           0.           0.           0.           0.\n",
      "    0.        ]\n",
      " [  0.60465881   0.           0.           0.           0.\n",
      "    0.           0.           0.           0.           0.\n",
      "    0.        ]\n",
      " [ -0.2873753    0.           0.           0.           0.\n",
      "    0.           0.           0.           0.           0.\n",
      "    0.        ]\n",
      " [ -1.85127873   0.           0.           0.           0.\n",
      "    0.           0.           0.           0.           0.\n",
      "    0.        ]\n",
      " [ -4.2690812    0.           0.           0.           0.\n",
      "    0.           0.           0.           0.           0.\n",
      "    0.        ]\n",
      " [ -7.72744729   0.           0.           0.           0.\n",
      "    0.           0.           0.           0.           0.\n",
      "    0.        ]\n",
      " [-12.41765907   0.           0.           0.           0.\n",
      "    0.           0.           0.           0.           0.\n",
      "    0.        ]\n",
      " [-18.53559689   0.           0.           0.           0.\n",
      "    0.           0.           0.           0.           0.\n",
      "    0.        ]\n",
      " [-26.28171817 -29.04271817 -31.92971817 -34.94871817 -38.10571817\n",
      "  -41.40671817 -44.85771817 -48.46471817 -52.23371817 -56.17071817\n",
      "  -60.28171817]]\n"
     ]
    }
   ],
   "source": [
    "n = N+1\n",
    "m = M+1\n",
    "u = np.zeros((n,m))\n",
    "\n",
    "for i in range(n):\n",
    "    u[i][0] = m0(i*h)\n",
    "for i in range(m):\n",
    "    u[0][i] = m1(i*tau)\n",
    "    u[n-1][i] = m2(i*tau)\n",
    "print(u)\n"
   ]
  },
  {
   "cell_type": "code",
   "execution_count": 23,
   "metadata": {},
   "outputs": [
    {
     "name": "stdout",
     "output_type": "stream",
     "text": [
      "[ 0.         -0.00131667 -0.00131667 -0.00131667 -0.00131667 -0.00131667\n",
      " -0.00131667 -0.00131667 -0.00131667 -0.00131667  0.        ]\n",
      "[1.         0.01263333 0.01263333 0.01263333 0.01263333 0.01263333\n",
      " 0.01263333 0.01263333 0.01263333 0.01263333 1.        ]\n",
      "[-0.00131667 -0.00131667 -0.00131667 -0.00131667 -0.00131667 -0.00131667\n",
      " -0.00131667 -0.00131667 -0.00131667 -0.00131667  0.        ]\n"
     ]
    }
   ],
   "source": [
    "da = []\n",
    "db = []\n",
    "dc = []\n",
    "da.append(0.)\n",
    "for i in range(1,n-1):\n",
    "    da.append(-1 * a * tau * sigma)\n",
    "da.append(0)\n",
    "db.append(1)\n",
    "for i in range(1, n-1):\n",
    "    db.append(h**2 + 2 * a * tau * sigma)\n",
    "db.append(1)\n",
    "for i in range(n - 1):\n",
    "    dc.append(-1 * a * tau * sigma)\n",
    "dc.append(0)\n",
    "    \n",
    "\n",
    "\n",
    "db = np.array(db)\n",
    "da = np.array(da)\n",
    "dc = np.array(dc)\n",
    "print(da)\n",
    "print(db)\n",
    "print(dc)\n"
   ]
  },
  {
   "cell_type": "code",
   "execution_count": null,
   "metadata": {},
   "outputs": [],
   "source": [
    "def progonka(a,b,c,f):\n",
    "    a, b, c, f = tuple(map(lambda k_list: list(map(float, k_list)), (a, b, c, f)))\n",
    "\n",
    "    alpha = [-b[0] / c[0]]\n",
    "    beta = [f[0] / c[0]]\n",
    "    n = len(f)\n",
    "    x = [0]*n\n",
    "\n",
    "    for i in range(1, n):\n",
    "        alpha.append(-b[i]/(a[i]*alpha[i-1] + c[i]))\n",
    "        beta.append((f[i] - a[i]*beta[i-1])/(a[i]*alpha[i-1] + c[i]))\n",
    "\n",
    "    x[n-1] = beta[n - 1]\n",
    "\n",
    "    for i in range(n-1, 0, -1):\n",
    "        x[i - 1] = alpha[i - 1]*x[i] + beta[i - 1]\n",
    "\n",
    "    return np.array[x]"
   ]
  },
  {
   "cell_type": "code",
   "execution_count": 25,
   "metadata": {},
   "outputs": [
    {
     "name": "stdout",
     "output_type": "stream",
     "text": [
      "[[ 1.          0.          0.          0.          0.          0.\n",
      "   0.          0.          0.          0.          0.        ]\n",
      " [-0.00131667  0.01263333 -0.00131667  0.          0.          0.\n",
      "   0.          0.          0.          0.          0.        ]\n",
      " [ 0.         -0.00131667  0.01263333 -0.00131667  0.          0.\n",
      "   0.          0.          0.          0.          0.        ]\n",
      " [ 0.          0.         -0.00131667  0.01263333 -0.00131667  0.\n",
      "   0.          0.          0.          0.          0.        ]\n",
      " [ 0.          0.          0.         -0.00131667  0.01263333 -0.00131667\n",
      "   0.          0.          0.          0.          0.        ]\n",
      " [ 0.          0.          0.          0.         -0.00131667  0.01263333\n",
      "  -0.00131667  0.          0.          0.          0.        ]\n",
      " [ 0.          0.          0.          0.          0.         -0.00131667\n",
      "   0.01263333 -0.00131667  0.          0.          0.        ]\n",
      " [ 0.          0.          0.          0.          0.          0.\n",
      "  -0.00131667  0.01263333 -0.00131667  0.          0.        ]\n",
      " [ 0.          0.          0.          0.          0.          0.\n",
      "   0.         -0.00131667  0.01263333 -0.00131667  0.        ]\n",
      " [ 0.          0.          0.          0.          0.          0.\n",
      "   0.          0.         -0.00131667  0.01263333 -0.00131667]\n",
      " [ 0.          0.          0.          0.          0.          0.\n",
      "   0.          0.          0.          0.          1.        ]]\n"
     ]
    }
   ],
   "source": [
    "L = np.zeros((n,n))\n",
    "L[0][0] = 1\n",
    "L[n-1][n-1] = 1\n",
    "\n",
    "for i in range(1,n-1):\n",
    "    L[i][i-1] = -1 * a * tau * sigma\n",
    "    L[i][i] = h**2 + 2 * a * tau * sigma\n",
    "    L[i][i+1] = -1 * a * tau * sigma\n",
    "\n",
    "print(L)"
   ]
  },
  {
   "cell_type": "code",
   "execution_count": 26,
   "metadata": {},
   "outputs": [
    {
     "name": "stdout",
     "output_type": "stream",
     "text": [
      "[[ 1.00000000e+00  9.99000000e-01  9.92000000e-01  9.73000000e-01\n",
      "   9.36000000e-01  8.75000000e-01  7.84000000e-01  6.57000000e-01\n",
      "   4.88000000e-01  2.71000000e-01  0.00000000e+00]\n",
      " [ 1.07797092e+00  1.04397092e+00  9.91970918e-01  9.15970918e-01\n",
      "   8.09970918e-01  6.67970918e-01  4.83970918e-01  2.51970918e-01\n",
      "  -3.40290819e-02 -3.80029082e-01 -7.92029082e-01]\n",
      " [ 1.00220276e+00  8.81202758e-01  7.30202758e-01  5.43202758e-01\n",
      "   3.14202758e-01  3.72027582e-02 -2.93797242e-01 -6.84797242e-01\n",
      "  -1.14179724e+00 -1.67079724e+00 -2.27779724e+00]\n",
      " [ 6.04658808e-01  3.42658808e-01  3.86588076e-02 -3.13341192e-01\n",
      "  -7.19341192e-01 -1.18534119e+00 -1.71734119e+00 -2.32134119e+00\n",
      "  -3.00334119e+00 -3.76934119e+00 -4.62534119e+00]\n",
      " [-2.87375302e-01 -7.44375302e-01 -1.25537530e+00 -1.82637530e+00\n",
      "  -2.46337530e+00 -3.17237530e+00 -3.95937530e+00 -4.83037530e+00\n",
      "  -5.79137530e+00 -6.84837530e+00 -8.00737530e+00]\n",
      " [-1.85127873e+00 -2.55727873e+00 -3.32927873e+00 -4.17327873e+00\n",
      "  -5.09527873e+00 -6.10127873e+00 -7.19727873e+00 -8.38927873e+00\n",
      "  -9.68327873e+00 -1.10852787e+01 -1.26012787e+01]\n",
      " [-4.26908120e+00 -5.27808120e+00 -6.36508120e+00 -7.53608120e+00\n",
      "  -8.79708120e+00 -1.01540812e+01 -1.16130812e+01 -1.31800812e+01\n",
      "  -1.48610812e+01 -1.66620812e+01 -1.85890812e+01]\n",
      " [-7.72744729e+00 -9.09344729e+00 -1.05494473e+01 -1.21014473e+01\n",
      "  -1.37554473e+01 -1.55174473e+01 -1.73934473e+01 -1.93894473e+01\n",
      "  -2.15114473e+01 -2.37654473e+01 -2.61574473e+01]\n",
      " [-1.24176591e+01 -1.41946591e+01 -1.60736591e+01 -1.80606591e+01\n",
      "  -2.01616591e+01 -2.23826591e+01 -2.47296591e+01 -2.72086591e+01\n",
      "  -2.98256591e+01 -3.25866591e+01 -3.54976591e+01]\n",
      " [-1.85355969e+01 -2.07775969e+01 -2.31335969e+01 -2.56095969e+01\n",
      "  -2.82115969e+01 -3.09455969e+01 -3.38175969e+01 -3.68335969e+01\n",
      "  -3.99995969e+01 -4.33215969e+01 -4.68055969e+01]\n",
      " [-2.62817182e+01 -2.90427182e+01 -3.19297182e+01 -3.49487182e+01\n",
      "  -3.81057182e+01 -4.14067182e+01 -4.48577182e+01 -4.84647182e+01\n",
      "  -5.22337182e+01 -5.61707182e+01 -6.02817182e+01]]\n"
     ]
    }
   ],
   "source": [
    "u_acc = np.zeros((n,m))\n",
    "for i in range(n):\n",
    "    for j in range(m):\n",
    "        u_acc[i][j] = uAcc(i*h, j*tau)\n",
    "\n",
    "print(u_acc)"
   ]
  },
  {
   "cell_type": "code",
   "execution_count": 27,
   "metadata": {},
   "outputs": [
    {
     "name": "stdout",
     "output_type": "stream",
     "text": [
      "[[ 1.00000000e+00  9.99000000e-01  9.92000000e-01  9.73000000e-01\n",
      "   9.36000000e-01  8.75000000e-01  7.84000000e-01  6.57000000e-01\n",
      "   4.88000000e-01  2.71000000e-01  0.00000000e+00]\n",
      " [ 1.07797092e+00  1.02374624e+00  9.44329103e-01  8.36836893e-01\n",
      "   6.95902949e-01  5.16079387e-01  2.91694313e-01  1.70470693e-02\n",
      "  -3.13582477e-01 -7.05915956e-01 -1.16569687e+00]\n",
      " [ 1.00220276e+00  8.38988608e-01  6.38291544e-01  3.94579981e-01\n",
      "   1.03086310e-01 -2.41590165e-01 -6.44845566e-01 -1.11212874e+00\n",
      "  -1.64887264e+00 -2.26055581e+00 -2.95271612e+00]\n",
      " [ 6.04658808e-01  2.77718429e-01 -9.86847038e-02 -5.30498592e-01\n",
      "  -1.02338056e+00 -1.58263034e+00 -2.21350917e+00 -2.92115445e+00\n",
      "  -3.71078581e+00 -4.58774407e+00 -5.55746766e+00]\n",
      " [-2.87375302e-01 -8.32668560e-01 -1.43941038e+00 -2.11354479e+00\n",
      "  -2.86078413e+00 -3.68633713e+00 -4.59500531e+00 -5.59173504e+00\n",
      "  -6.68176377e+00 -7.87046023e+00 -9.16336371e+00]\n",
      " [-1.85127873e+00 -2.66953600e+00 -3.56119202e+00 -4.53191366e+00\n",
      "  -5.58660088e+00 -6.72937912e+00 -7.96473833e+00 -9.29804995e+00\n",
      "  -1.07347679e+01 -1.22806374e+01 -1.39414550e+01]\n",
      " [-4.26908120e+00 -5.41488904e+00 -6.64573669e+00 -7.96580246e+00\n",
      "  -9.37730557e+00 -1.08835073e+01 -1.24906390e+01 -1.42044872e+01\n",
      "  -1.60313813e+01 -1.79775040e+01 -2.00490988e+01]\n",
      " [-7.72744729e+00 -9.25518777e+00 -1.08774461e+01 -1.25923035e+01\n",
      "  -1.43994700e+01 -1.63086967e+01 -1.83264975e+01 -2.04604589e+01\n",
      "  -2.27173875e+01 -2.51040883e+01 -2.76271114e+01]\n",
      " [-1.24176591e+01 -1.43797939e+01 -1.64327999e+01 -1.85645056e+01\n",
      "  -2.07980551e+01 -2.31412232e+01 -2.56038709e+01 -2.81935211e+01\n",
      "  -3.09176214e+01 -3.37830518e+01 -3.67965190e+01]\n",
      " [-1.85355969e+01 -2.09663860e+01 -2.34300846e+01 -2.59979553e+01\n",
      "  -2.86788321e+01 -3.14850494e+01 -3.44243156e+01 -3.75042930e+01\n",
      "  -4.07318349e+01 -4.41136203e+01 -4.76560978e+01]\n",
      " [-2.62817182e+01 -2.90427182e+01 -3.19297182e+01 -3.49487182e+01\n",
      "  -3.81057182e+01 -4.14067182e+01 -4.48577182e+01 -4.84647182e+01\n",
      "  -5.22337182e+01 -5.61707182e+01 -6.02817182e+01]]\n"
     ]
    }
   ],
   "source": [
    "for j in range(1,m):\n",
    "    tmpV = []\n",
    "    tmpV.append(u[0][j])\n",
    "    for i in range(1,n-1):\n",
    "        tmpX = h * i\n",
    "        tmpT =(tau * (j-1) + tau * j) / 2\n",
    "        tmpV.append(h * h * u[i][j-1] + a * tau * ( u[i+1][j-1] - 2 * u[i][j-1] + u[i-1][j-1]) + tau * h * h * fAverage(tmpX, tmpT))\n",
    "    tmpV.append(u[n-1][j])\n",
    "    v = np.array(tmpV)\n",
    "\n",
    "#     res = np.linalg.solve(L,v)\n",
    "    \n",
    "    res = progonka(da,db,dc, v)\n",
    "    for i in range(n):\n",
    "        u[i][j] = res[i]\n",
    "\n",
    "print(u)"
   ]
  },
  {
   "cell_type": "code",
   "execution_count": 12,
   "metadata": {},
   "outputs": [
    {
     "name": "stdout",
     "output_type": "stream",
     "text": []
    },
    {
     "name": "stdout",
     "output_type": "stream",
     "text": []
    },
    {
     "name": "stdout",
     "output_type": "stream",
     "text": []
    },
    {
     "name": "stdout",
     "output_type": "stream",
     "text": []
    },
    {
     "name": "stdout",
     "output_type": "stream",
     "text": [
      "Building jupyterlab assets (build:prod:minimize)\n",
      "Building jupyterlab assets (build:prod:minimize)\n"
     ]
    }
   ],
   "source": [
    "!jupyter labextension install @jupyter-widgets/jupyterlab-manager\n",
    "!jupyter labextension install @bokeh/jupyter_bokeh"
   ]
  },
  {
   "cell_type": "code",
   "execution_count": 13,
   "metadata": {},
   "outputs": [],
   "source": [
    "from bokeh.plotting import figure, show\n",
    "from bokeh.io import output_notebook\n",
    "from bokeh.layouts import row"
   ]
  },
  {
   "cell_type": "code",
   "execution_count": 15,
   "metadata": {},
   "outputs": [
    {
     "data": {
      "text/html": [
       "\n",
       "    <div class=\"bk-root\">\n",
       "        <a href=\"https://bokeh.org\" target=\"_blank\" class=\"bk-logo bk-logo-small bk-logo-notebook\"></a>\n",
       "        <span id=\"1002\">Loading BokehJS ...</span>\n",
       "    </div>"
      ]
     },
     "metadata": {},
     "output_type": "display_data"
    },
    {
     "data": {
      "application/javascript": [
       "\n",
       "(function(root) {\n",
       "  function now() {\n",
       "    return new Date();\n",
       "  }\n",
       "\n",
       "  var force = true;\n",
       "\n",
       "  if (typeof root._bokeh_onload_callbacks === \"undefined\" || force === true) {\n",
       "    root._bokeh_onload_callbacks = [];\n",
       "    root._bokeh_is_loading = undefined;\n",
       "  }\n",
       "\n",
       "  var JS_MIME_TYPE = 'application/javascript';\n",
       "  var HTML_MIME_TYPE = 'text/html';\n",
       "  var EXEC_MIME_TYPE = 'application/vnd.bokehjs_exec.v0+json';\n",
       "  var CLASS_NAME = 'output_bokeh rendered_html';\n",
       "\n",
       "  /**\n",
       "   * Render data to the DOM node\n",
       "   */\n",
       "  function render(props, node) {\n",
       "    var script = document.createElement(\"script\");\n",
       "    node.appendChild(script);\n",
       "  }\n",
       "\n",
       "  /**\n",
       "   * Handle when an output is cleared or removed\n",
       "   */\n",
       "  function handleClearOutput(event, handle) {\n",
       "    var cell = handle.cell;\n",
       "\n",
       "    var id = cell.output_area._bokeh_element_id;\n",
       "    var server_id = cell.output_area._bokeh_server_id;\n",
       "    // Clean up Bokeh references\n",
       "    if (id != null && id in Bokeh.index) {\n",
       "      Bokeh.index[id].model.document.clear();\n",
       "      delete Bokeh.index[id];\n",
       "    }\n",
       "\n",
       "    if (server_id !== undefined) {\n",
       "      // Clean up Bokeh references\n",
       "      var cmd = \"from bokeh.io.state import curstate; print(curstate().uuid_to_server['\" + server_id + \"'].get_sessions()[0].document.roots[0]._id)\";\n",
       "      cell.notebook.kernel.execute(cmd, {\n",
       "        iopub: {\n",
       "          output: function(msg) {\n",
       "            var id = msg.content.text.trim();\n",
       "            if (id in Bokeh.index) {\n",
       "              Bokeh.index[id].model.document.clear();\n",
       "              delete Bokeh.index[id];\n",
       "            }\n",
       "          }\n",
       "        }\n",
       "      });\n",
       "      // Destroy server and session\n",
       "      var cmd = \"import bokeh.io.notebook as ion; ion.destroy_server('\" + server_id + \"')\";\n",
       "      cell.notebook.kernel.execute(cmd);\n",
       "    }\n",
       "  }\n",
       "\n",
       "  /**\n",
       "   * Handle when a new output is added\n",
       "   */\n",
       "  function handleAddOutput(event, handle) {\n",
       "    var output_area = handle.output_area;\n",
       "    var output = handle.output;\n",
       "\n",
       "    // limit handleAddOutput to display_data with EXEC_MIME_TYPE content only\n",
       "    if ((output.output_type != \"display_data\") || (!output.data.hasOwnProperty(EXEC_MIME_TYPE))) {\n",
       "      return\n",
       "    }\n",
       "\n",
       "    var toinsert = output_area.element.find(\".\" + CLASS_NAME.split(' ')[0]);\n",
       "\n",
       "    if (output.metadata[EXEC_MIME_TYPE][\"id\"] !== undefined) {\n",
       "      toinsert[toinsert.length - 1].firstChild.textContent = output.data[JS_MIME_TYPE];\n",
       "      // store reference to embed id on output_area\n",
       "      output_area._bokeh_element_id = output.metadata[EXEC_MIME_TYPE][\"id\"];\n",
       "    }\n",
       "    if (output.metadata[EXEC_MIME_TYPE][\"server_id\"] !== undefined) {\n",
       "      var bk_div = document.createElement(\"div\");\n",
       "      bk_div.innerHTML = output.data[HTML_MIME_TYPE];\n",
       "      var script_attrs = bk_div.children[0].attributes;\n",
       "      for (var i = 0; i < script_attrs.length; i++) {\n",
       "        toinsert[toinsert.length - 1].firstChild.setAttribute(script_attrs[i].name, script_attrs[i].value);\n",
       "        toinsert[toinsert.length - 1].firstChild.textContent = bk_div.children[0].textContent\n",
       "      }\n",
       "      // store reference to server id on output_area\n",
       "      output_area._bokeh_server_id = output.metadata[EXEC_MIME_TYPE][\"server_id\"];\n",
       "    }\n",
       "  }\n",
       "\n",
       "  function register_renderer(events, OutputArea) {\n",
       "\n",
       "    function append_mime(data, metadata, element) {\n",
       "      // create a DOM node to render to\n",
       "      var toinsert = this.create_output_subarea(\n",
       "        metadata,\n",
       "        CLASS_NAME,\n",
       "        EXEC_MIME_TYPE\n",
       "      );\n",
       "      this.keyboard_manager.register_events(toinsert);\n",
       "      // Render to node\n",
       "      var props = {data: data, metadata: metadata[EXEC_MIME_TYPE]};\n",
       "      render(props, toinsert[toinsert.length - 1]);\n",
       "      element.append(toinsert);\n",
       "      return toinsert\n",
       "    }\n",
       "\n",
       "    /* Handle when an output is cleared or removed */\n",
       "    events.on('clear_output.CodeCell', handleClearOutput);\n",
       "    events.on('delete.Cell', handleClearOutput);\n",
       "\n",
       "    /* Handle when a new output is added */\n",
       "    events.on('output_added.OutputArea', handleAddOutput);\n",
       "\n",
       "    /**\n",
       "     * Register the mime type and append_mime function with output_area\n",
       "     */\n",
       "    OutputArea.prototype.register_mime_type(EXEC_MIME_TYPE, append_mime, {\n",
       "      /* Is output safe? */\n",
       "      safe: true,\n",
       "      /* Index of renderer in `output_area.display_order` */\n",
       "      index: 0\n",
       "    });\n",
       "  }\n",
       "\n",
       "  // register the mime type if in Jupyter Notebook environment and previously unregistered\n",
       "  if (root.Jupyter !== undefined) {\n",
       "    var events = require('base/js/events');\n",
       "    var OutputArea = require('notebook/js/outputarea').OutputArea;\n",
       "\n",
       "    if (OutputArea.prototype.mime_types().indexOf(EXEC_MIME_TYPE) == -1) {\n",
       "      register_renderer(events, OutputArea);\n",
       "    }\n",
       "  }\n",
       "\n",
       "  \n",
       "  if (typeof (root._bokeh_timeout) === \"undefined\" || force === true) {\n",
       "    root._bokeh_timeout = Date.now() + 5000;\n",
       "    root._bokeh_failed_load = false;\n",
       "  }\n",
       "\n",
       "  var NB_LOAD_WARNING = {'data': {'text/html':\n",
       "     \"<div style='background-color: #fdd'>\\n\"+\n",
       "     \"<p>\\n\"+\n",
       "     \"BokehJS does not appear to have successfully loaded. If loading BokehJS from CDN, this \\n\"+\n",
       "     \"may be due to a slow or bad network connection. Possible fixes:\\n\"+\n",
       "     \"</p>\\n\"+\n",
       "     \"<ul>\\n\"+\n",
       "     \"<li>re-rerun `output_notebook()` to attempt to load from CDN again, or</li>\\n\"+\n",
       "     \"<li>use INLINE resources instead, as so:</li>\\n\"+\n",
       "     \"</ul>\\n\"+\n",
       "     \"<code>\\n\"+\n",
       "     \"from bokeh.resources import INLINE\\n\"+\n",
       "     \"output_notebook(resources=INLINE)\\n\"+\n",
       "     \"</code>\\n\"+\n",
       "     \"</div>\"}};\n",
       "\n",
       "  function display_loaded() {\n",
       "    var el = document.getElementById(\"1002\");\n",
       "    if (el != null) {\n",
       "      el.textContent = \"BokehJS is loading...\";\n",
       "    }\n",
       "    if (root.Bokeh !== undefined) {\n",
       "      if (el != null) {\n",
       "        el.textContent = \"BokehJS \" + root.Bokeh.version + \" successfully loaded.\";\n",
       "      }\n",
       "    } else if (Date.now() < root._bokeh_timeout) {\n",
       "      setTimeout(display_loaded, 100)\n",
       "    }\n",
       "  }\n",
       "\n",
       "\n",
       "  function run_callbacks() {\n",
       "    try {\n",
       "      root._bokeh_onload_callbacks.forEach(function(callback) {\n",
       "        if (callback != null)\n",
       "          callback();\n",
       "      });\n",
       "    } finally {\n",
       "      delete root._bokeh_onload_callbacks\n",
       "    }\n",
       "    console.debug(\"Bokeh: all callbacks have finished\");\n",
       "  }\n",
       "\n",
       "  function load_libs(css_urls, js_urls, callback) {\n",
       "    if (css_urls == null) css_urls = [];\n",
       "    if (js_urls == null) js_urls = [];\n",
       "\n",
       "    root._bokeh_onload_callbacks.push(callback);\n",
       "    if (root._bokeh_is_loading > 0) {\n",
       "      console.debug(\"Bokeh: BokehJS is being loaded, scheduling callback at\", now());\n",
       "      return null;\n",
       "    }\n",
       "    if (js_urls == null || js_urls.length === 0) {\n",
       "      run_callbacks();\n",
       "      return null;\n",
       "    }\n",
       "    console.debug(\"Bokeh: BokehJS not loaded, scheduling load and callback at\", now());\n",
       "    root._bokeh_is_loading = css_urls.length + js_urls.length;\n",
       "\n",
       "    function on_load() {\n",
       "      root._bokeh_is_loading--;\n",
       "      if (root._bokeh_is_loading === 0) {\n",
       "        console.debug(\"Bokeh: all BokehJS libraries/stylesheets loaded\");\n",
       "        run_callbacks()\n",
       "      }\n",
       "    }\n",
       "\n",
       "    function on_error() {\n",
       "      console.error(\"failed to load \" + url);\n",
       "    }\n",
       "\n",
       "    for (var i = 0; i < css_urls.length; i++) {\n",
       "      var url = css_urls[i];\n",
       "      const element = document.createElement(\"link\");\n",
       "      element.onload = on_load;\n",
       "      element.onerror = on_error;\n",
       "      element.rel = \"stylesheet\";\n",
       "      element.type = \"text/css\";\n",
       "      element.href = url;\n",
       "      console.debug(\"Bokeh: injecting link tag for BokehJS stylesheet: \", url);\n",
       "      document.body.appendChild(element);\n",
       "    }\n",
       "\n",
       "    const hashes = {\"https://cdn.bokeh.org/bokeh/release/bokeh-2.2.3.min.js\": \"T2yuo9Oe71Cz/I4X9Ac5+gpEa5a8PpJCDlqKYO0CfAuEszu1JrXLl8YugMqYe3sM\", \"https://cdn.bokeh.org/bokeh/release/bokeh-widgets-2.2.3.min.js\": \"98GDGJ0kOMCUMUePhksaQ/GYgB3+NH9h996V88sh3aOiUNX3N+fLXAtry6xctSZ6\", \"https://cdn.bokeh.org/bokeh/release/bokeh-tables-2.2.3.min.js\": \"89bArO+nlbP3sgakeHjCo1JYxYR5wufVgA3IbUvDY+K7w4zyxJqssu7wVnfeKCq8\"};\n",
       "\n",
       "    for (var i = 0; i < js_urls.length; i++) {\n",
       "      var url = js_urls[i];\n",
       "      var element = document.createElement('script');\n",
       "      element.onload = on_load;\n",
       "      element.onerror = on_error;\n",
       "      element.async = false;\n",
       "      element.src = url;\n",
       "      if (url in hashes) {\n",
       "        element.crossOrigin = \"anonymous\";\n",
       "        element.integrity = \"sha384-\" + hashes[url];\n",
       "      }\n",
       "      console.debug(\"Bokeh: injecting script tag for BokehJS library: \", url);\n",
       "      document.head.appendChild(element);\n",
       "    }\n",
       "  };\n",
       "\n",
       "  function inject_raw_css(css) {\n",
       "    const element = document.createElement(\"style\");\n",
       "    element.appendChild(document.createTextNode(css));\n",
       "    document.body.appendChild(element);\n",
       "  }\n",
       "\n",
       "  \n",
       "  var js_urls = [\"https://cdn.bokeh.org/bokeh/release/bokeh-2.2.3.min.js\", \"https://cdn.bokeh.org/bokeh/release/bokeh-widgets-2.2.3.min.js\", \"https://cdn.bokeh.org/bokeh/release/bokeh-tables-2.2.3.min.js\"];\n",
       "  var css_urls = [];\n",
       "  \n",
       "\n",
       "  var inline_js = [\n",
       "    function(Bokeh) {\n",
       "      Bokeh.set_log_level(\"info\");\n",
       "    },\n",
       "    function(Bokeh) {\n",
       "    \n",
       "    \n",
       "    }\n",
       "  ];\n",
       "\n",
       "  function run_inline_js() {\n",
       "    \n",
       "    if (root.Bokeh !== undefined || force === true) {\n",
       "      \n",
       "    for (var i = 0; i < inline_js.length; i++) {\n",
       "      inline_js[i].call(root, root.Bokeh);\n",
       "    }\n",
       "    if (force === true) {\n",
       "        display_loaded();\n",
       "      }} else if (Date.now() < root._bokeh_timeout) {\n",
       "      setTimeout(run_inline_js, 100);\n",
       "    } else if (!root._bokeh_failed_load) {\n",
       "      console.log(\"Bokeh: BokehJS failed to load within specified timeout.\");\n",
       "      root._bokeh_failed_load = true;\n",
       "    } else if (force !== true) {\n",
       "      var cell = $(document.getElementById(\"1002\")).parents('.cell').data().cell;\n",
       "      cell.output_area.append_execute_result(NB_LOAD_WARNING)\n",
       "    }\n",
       "\n",
       "  }\n",
       "\n",
       "  if (root._bokeh_is_loading === 0) {\n",
       "    console.debug(\"Bokeh: BokehJS loaded, going straight to plotting\");\n",
       "    run_inline_js();\n",
       "  } else {\n",
       "    load_libs(css_urls, js_urls, function() {\n",
       "      console.debug(\"Bokeh: BokehJS plotting callback run at\", now());\n",
       "      run_inline_js();\n",
       "    });\n",
       "  }\n",
       "}(window));"
      ],
      "application/vnd.bokehjs_load.v0+json": "\n(function(root) {\n  function now() {\n    return new Date();\n  }\n\n  var force = true;\n\n  if (typeof root._bokeh_onload_callbacks === \"undefined\" || force === true) {\n    root._bokeh_onload_callbacks = [];\n    root._bokeh_is_loading = undefined;\n  }\n\n  \n\n  \n  if (typeof (root._bokeh_timeout) === \"undefined\" || force === true) {\n    root._bokeh_timeout = Date.now() + 5000;\n    root._bokeh_failed_load = false;\n  }\n\n  var NB_LOAD_WARNING = {'data': {'text/html':\n     \"<div style='background-color: #fdd'>\\n\"+\n     \"<p>\\n\"+\n     \"BokehJS does not appear to have successfully loaded. If loading BokehJS from CDN, this \\n\"+\n     \"may be due to a slow or bad network connection. Possible fixes:\\n\"+\n     \"</p>\\n\"+\n     \"<ul>\\n\"+\n     \"<li>re-rerun `output_notebook()` to attempt to load from CDN again, or</li>\\n\"+\n     \"<li>use INLINE resources instead, as so:</li>\\n\"+\n     \"</ul>\\n\"+\n     \"<code>\\n\"+\n     \"from bokeh.resources import INLINE\\n\"+\n     \"output_notebook(resources=INLINE)\\n\"+\n     \"</code>\\n\"+\n     \"</div>\"}};\n\n  function display_loaded() {\n    var el = document.getElementById(\"1002\");\n    if (el != null) {\n      el.textContent = \"BokehJS is loading...\";\n    }\n    if (root.Bokeh !== undefined) {\n      if (el != null) {\n        el.textContent = \"BokehJS \" + root.Bokeh.version + \" successfully loaded.\";\n      }\n    } else if (Date.now() < root._bokeh_timeout) {\n      setTimeout(display_loaded, 100)\n    }\n  }\n\n\n  function run_callbacks() {\n    try {\n      root._bokeh_onload_callbacks.forEach(function(callback) {\n        if (callback != null)\n          callback();\n      });\n    } finally {\n      delete root._bokeh_onload_callbacks\n    }\n    console.debug(\"Bokeh: all callbacks have finished\");\n  }\n\n  function load_libs(css_urls, js_urls, callback) {\n    if (css_urls == null) css_urls = [];\n    if (js_urls == null) js_urls = [];\n\n    root._bokeh_onload_callbacks.push(callback);\n    if (root._bokeh_is_loading > 0) {\n      console.debug(\"Bokeh: BokehJS is being loaded, scheduling callback at\", now());\n      return null;\n    }\n    if (js_urls == null || js_urls.length === 0) {\n      run_callbacks();\n      return null;\n    }\n    console.debug(\"Bokeh: BokehJS not loaded, scheduling load and callback at\", now());\n    root._bokeh_is_loading = css_urls.length + js_urls.length;\n\n    function on_load() {\n      root._bokeh_is_loading--;\n      if (root._bokeh_is_loading === 0) {\n        console.debug(\"Bokeh: all BokehJS libraries/stylesheets loaded\");\n        run_callbacks()\n      }\n    }\n\n    function on_error() {\n      console.error(\"failed to load \" + url);\n    }\n\n    for (var i = 0; i < css_urls.length; i++) {\n      var url = css_urls[i];\n      const element = document.createElement(\"link\");\n      element.onload = on_load;\n      element.onerror = on_error;\n      element.rel = \"stylesheet\";\n      element.type = \"text/css\";\n      element.href = url;\n      console.debug(\"Bokeh: injecting link tag for BokehJS stylesheet: \", url);\n      document.body.appendChild(element);\n    }\n\n    const hashes = {\"https://cdn.bokeh.org/bokeh/release/bokeh-2.2.3.min.js\": \"T2yuo9Oe71Cz/I4X9Ac5+gpEa5a8PpJCDlqKYO0CfAuEszu1JrXLl8YugMqYe3sM\", \"https://cdn.bokeh.org/bokeh/release/bokeh-widgets-2.2.3.min.js\": \"98GDGJ0kOMCUMUePhksaQ/GYgB3+NH9h996V88sh3aOiUNX3N+fLXAtry6xctSZ6\", \"https://cdn.bokeh.org/bokeh/release/bokeh-tables-2.2.3.min.js\": \"89bArO+nlbP3sgakeHjCo1JYxYR5wufVgA3IbUvDY+K7w4zyxJqssu7wVnfeKCq8\"};\n\n    for (var i = 0; i < js_urls.length; i++) {\n      var url = js_urls[i];\n      var element = document.createElement('script');\n      element.onload = on_load;\n      element.onerror = on_error;\n      element.async = false;\n      element.src = url;\n      if (url in hashes) {\n        element.crossOrigin = \"anonymous\";\n        element.integrity = \"sha384-\" + hashes[url];\n      }\n      console.debug(\"Bokeh: injecting script tag for BokehJS library: \", url);\n      document.head.appendChild(element);\n    }\n  };\n\n  function inject_raw_css(css) {\n    const element = document.createElement(\"style\");\n    element.appendChild(document.createTextNode(css));\n    document.body.appendChild(element);\n  }\n\n  \n  var js_urls = [\"https://cdn.bokeh.org/bokeh/release/bokeh-2.2.3.min.js\", \"https://cdn.bokeh.org/bokeh/release/bokeh-widgets-2.2.3.min.js\", \"https://cdn.bokeh.org/bokeh/release/bokeh-tables-2.2.3.min.js\"];\n  var css_urls = [];\n  \n\n  var inline_js = [\n    function(Bokeh) {\n      Bokeh.set_log_level(\"info\");\n    },\n    function(Bokeh) {\n    \n    \n    }\n  ];\n\n  function run_inline_js() {\n    \n    if (root.Bokeh !== undefined || force === true) {\n      \n    for (var i = 0; i < inline_js.length; i++) {\n      inline_js[i].call(root, root.Bokeh);\n    }\n    if (force === true) {\n        display_loaded();\n      }} else if (Date.now() < root._bokeh_timeout) {\n      setTimeout(run_inline_js, 100);\n    } else if (!root._bokeh_failed_load) {\n      console.log(\"Bokeh: BokehJS failed to load within specified timeout.\");\n      root._bokeh_failed_load = true;\n    } else if (force !== true) {\n      var cell = $(document.getElementById(\"1002\")).parents('.cell').data().cell;\n      cell.output_area.append_execute_result(NB_LOAD_WARNING)\n    }\n\n  }\n\n  if (root._bokeh_is_loading === 0) {\n    console.debug(\"Bokeh: BokehJS loaded, going straight to plotting\");\n    run_inline_js();\n  } else {\n    load_libs(css_urls, js_urls, function() {\n      console.debug(\"Bokeh: BokehJS plotting callback run at\", now());\n      run_inline_js();\n    });\n  }\n}(window));"
     },
     "metadata": {},
     "output_type": "display_data"
    }
   ],
   "source": [
    "output_notebook()"
   ]
  },
  {
   "cell_type": "code",
   "execution_count": 28,
   "metadata": {},
   "outputs": [
    {
     "name": "stdout",
     "output_type": "stream",
     "text": [
      "t= 0.0\n"
     ]
    },
    {
     "data": {
      "text/html": [
       "\n",
       "\n",
       "\n",
       "\n",
       "\n",
       "\n",
       "  <div class=\"bk-root\" id=\"166f81cd-f824-4074-88cc-2fa397a9e671\" data-root-id=\"3423\"></div>\n"
      ]
     },
     "metadata": {},
     "output_type": "display_data"
    },
    {
     "data": {
      "application/javascript": [
       "(function(root) {\n",
       "  function embed_document(root) {\n",
       "    \n",
       "  var docs_json = {\"5a72b844-8323-4785-96b8-b947dee3ce86\":{\"roots\":{\"references\":[{\"attributes\":{\"below\":[{\"id\":\"3432\"}],\"center\":[{\"id\":\"3435\"},{\"id\":\"3439\"}],\"left\":[{\"id\":\"3436\"}],\"renderers\":[{\"id\":\"3457\"},{\"id\":\"3462\"}],\"title\":{\"id\":\"3597\"},\"toolbar\":{\"id\":\"3447\"},\"x_range\":{\"id\":\"3424\"},\"x_scale\":{\"id\":\"3428\"},\"y_range\":{\"id\":\"3426\"},\"y_scale\":{\"id\":\"3430\"}},\"id\":\"3423\",\"subtype\":\"Figure\",\"type\":\"Plot\"},{\"attributes\":{\"source\":{\"id\":\"3459\"}},\"id\":\"3463\",\"type\":\"CDSView\"},{\"attributes\":{\"formatter\":{\"id\":\"3601\"},\"ticker\":{\"id\":\"3433\"}},\"id\":\"3432\",\"type\":\"LinearAxis\"},{\"attributes\":{\"bottom_units\":\"screen\",\"fill_alpha\":0.5,\"fill_color\":\"lightgrey\",\"left_units\":\"screen\",\"level\":\"overlay\",\"line_alpha\":1.0,\"line_color\":\"black\",\"line_dash\":[4,4],\"line_width\":2,\"right_units\":\"screen\",\"top_units\":\"screen\"},\"id\":\"3446\",\"type\":\"BoxAnnotation\"},{\"attributes\":{},\"id\":\"3424\",\"type\":\"DataRange1d\"},{\"attributes\":{},\"id\":\"3605\",\"type\":\"Selection\"},{\"attributes\":{},\"id\":\"3601\",\"type\":\"BasicTickFormatter\"},{\"attributes\":{},\"id\":\"3606\",\"type\":\"UnionRenderers\"},{\"attributes\":{},\"id\":\"3599\",\"type\":\"BasicTickFormatter\"},{\"attributes\":{\"line_color\":\"red\",\"x\":{\"field\":\"x\"},\"y\":{\"field\":\"y\"}},\"id\":\"3460\",\"type\":\"Line\"},{\"attributes\":{\"source\":{\"id\":\"3454\"}},\"id\":\"3458\",\"type\":\"CDSView\"},{\"attributes\":{},\"id\":\"3444\",\"type\":\"ResetTool\"},{\"attributes\":{\"data_source\":{\"id\":\"3454\"},\"glyph\":{\"id\":\"3455\"},\"hover_glyph\":null,\"muted_glyph\":null,\"nonselection_glyph\":{\"id\":\"3456\"},\"selection_glyph\":null,\"view\":{\"id\":\"3458\"}},\"id\":\"3457\",\"type\":\"GlyphRenderer\"},{\"attributes\":{},\"id\":\"3426\",\"type\":\"DataRange1d\"},{\"attributes\":{},\"id\":\"3433\",\"type\":\"BasicTicker\"},{\"attributes\":{\"axis\":{\"id\":\"3432\"},\"ticker\":null},\"id\":\"3435\",\"type\":\"Grid\"},{\"attributes\":{},\"id\":\"3437\",\"type\":\"BasicTicker\"},{\"attributes\":{},\"id\":\"3430\",\"type\":\"LinearScale\"},{\"attributes\":{},\"id\":\"3440\",\"type\":\"PanTool\"},{\"attributes\":{},\"id\":\"3428\",\"type\":\"LinearScale\"},{\"attributes\":{},\"id\":\"3603\",\"type\":\"Selection\"},{\"attributes\":{},\"id\":\"3445\",\"type\":\"HelpTool\"},{\"attributes\":{\"data\":{\"x\":{\"__ndarray__\":\"AAAAAAAAAACamZmZmZm5P5qZmZmZmck/NDMzMzMz0z+amZmZmZnZPwAAAAAAAOA/NDMzMzMz4z9nZmZmZmbmP5qZmZmZmek/zczMzMzM7D8AAAAAAADwPw==\",\"dtype\":\"float64\",\"order\":\"little\",\"shape\":[11]},\"y\":{\"__ndarray__\":\"AAAAAAAA8D+2yPJuXj/xP5AkZMIFCfA/jt94bV1Z4z9UxFNhW2TSv2T54XHWnv2/NiqhBYoTEcCG6Wvx5+gewFUB6mjX1SjAlmux4ByJMsATdZ2uHkg6wA==\",\"dtype\":\"float64\",\"order\":\"little\",\"shape\":[11]}},\"selected\":{\"id\":\"3603\"},\"selection_policy\":{\"id\":\"3604\"}},\"id\":\"3454\",\"type\":\"ColumnDataSource\"},{\"attributes\":{\"line_alpha\":0.1,\"line_color\":\"red\",\"x\":{\"field\":\"x\"},\"y\":{\"field\":\"y\"}},\"id\":\"3461\",\"type\":\"Line\"},{\"attributes\":{\"overlay\":{\"id\":\"3446\"}},\"id\":\"3442\",\"type\":\"BoxZoomTool\"},{\"attributes\":{\"line_alpha\":0.1,\"line_color\":\"blue\",\"x\":{\"field\":\"x\"},\"y\":{\"field\":\"y\"}},\"id\":\"3456\",\"type\":\"Line\"},{\"attributes\":{\"formatter\":{\"id\":\"3599\"},\"ticker\":{\"id\":\"3437\"}},\"id\":\"3436\",\"type\":\"LinearAxis\"},{\"attributes\":{\"data\":{\"x\":{\"__ndarray__\":\"AAAAAAAAAACamZmZmZm5P5qZmZmZmck/NDMzMzMz0z+amZmZmZnZPwAAAAAAAOA/NDMzMzMz4z9nZmZmZmbmP5qZmZmZmek/zczMzMzM7D8AAAAAAADwPw==\",\"dtype\":\"float64\",\"order\":\"little\",\"shape\":[11]},\"y\":{\"__ndarray__\":\"AAAAAAAA8D+2yPJuXj/xP5AkZMIFCfA/jt94bV1Z4z9YxFNhW2TSv2T54XHWnv2/NiqhBYoTEcCG6Wvx5+gewFYB6mjX1SjAlmux4ByJMsATdZ2uHkg6wA==\",\"dtype\":\"float64\",\"order\":\"little\",\"shape\":[11]}},\"selected\":{\"id\":\"3605\"},\"selection_policy\":{\"id\":\"3606\"}},\"id\":\"3459\",\"type\":\"ColumnDataSource\"},{\"attributes\":{\"line_color\":\"blue\",\"x\":{\"field\":\"x\"},\"y\":{\"field\":\"y\"}},\"id\":\"3455\",\"type\":\"Line\"},{\"attributes\":{\"active_drag\":\"auto\",\"active_inspect\":\"auto\",\"active_multi\":null,\"active_scroll\":\"auto\",\"active_tap\":\"auto\",\"tools\":[{\"id\":\"3440\"},{\"id\":\"3441\"},{\"id\":\"3442\"},{\"id\":\"3443\"},{\"id\":\"3444\"},{\"id\":\"3445\"}]},\"id\":\"3447\",\"type\":\"Toolbar\"},{\"attributes\":{\"data_source\":{\"id\":\"3459\"},\"glyph\":{\"id\":\"3460\"},\"hover_glyph\":null,\"muted_glyph\":null,\"nonselection_glyph\":{\"id\":\"3461\"},\"selection_glyph\":null,\"view\":{\"id\":\"3463\"}},\"id\":\"3462\",\"type\":\"GlyphRenderer\"},{\"attributes\":{\"text\":\"\"},\"id\":\"3597\",\"type\":\"Title\"},{\"attributes\":{},\"id\":\"3441\",\"type\":\"WheelZoomTool\"},{\"attributes\":{},\"id\":\"3604\",\"type\":\"UnionRenderers\"},{\"attributes\":{\"axis\":{\"id\":\"3436\"},\"dimension\":1,\"ticker\":null},\"id\":\"3439\",\"type\":\"Grid\"},{\"attributes\":{},\"id\":\"3443\",\"type\":\"SaveTool\"}],\"root_ids\":[\"3423\"]},\"title\":\"Bokeh Application\",\"version\":\"2.2.3\"}};\n",
       "  var render_items = [{\"docid\":\"5a72b844-8323-4785-96b8-b947dee3ce86\",\"root_ids\":[\"3423\"],\"roots\":{\"3423\":\"166f81cd-f824-4074-88cc-2fa397a9e671\"}}];\n",
       "  root.Bokeh.embed.embed_items_notebook(docs_json, render_items);\n",
       "\n",
       "  }\n",
       "  if (root.Bokeh !== undefined) {\n",
       "    embed_document(root);\n",
       "  } else {\n",
       "    var attempts = 0;\n",
       "    var timer = setInterval(function(root) {\n",
       "      if (root.Bokeh !== undefined) {\n",
       "        clearInterval(timer);\n",
       "        embed_document(root);\n",
       "      } else {\n",
       "        attempts++;\n",
       "        if (attempts > 100) {\n",
       "          clearInterval(timer);\n",
       "          console.log(\"Bokeh: ERROR: Unable to run BokehJS code because BokehJS library is missing\");\n",
       "        }\n",
       "      }\n",
       "    }, 10, root)\n",
       "  }\n",
       "})(window);"
      ],
      "application/vnd.bokehjs_exec.v0+json": ""
     },
     "metadata": {
      "application/vnd.bokehjs_exec.v0+json": {
       "id": "3423"
      }
     },
     "output_type": "display_data"
    },
    {
     "name": "stdout",
     "output_type": "stream",
     "text": [
      "t= 0.1\n"
     ]
    },
    {
     "data": {
      "text/html": [
       "\n",
       "\n",
       "\n",
       "\n",
       "\n",
       "\n",
       "  <div class=\"bk-root\" id=\"f634d3da-c95d-492f-bde2-7a547609cdb0\" data-root-id=\"3662\"></div>\n"
      ]
     },
     "metadata": {},
     "output_type": "display_data"
    },
    {
     "data": {
      "application/javascript": [
       "(function(root) {\n",
       "  function embed_document(root) {\n",
       "    \n",
       "  var docs_json = {\"9da4c767-f8aa-49bc-a5da-924cb46b8071\":{\"roots\":{\"references\":[{\"attributes\":{\"below\":[{\"id\":\"3671\"}],\"center\":[{\"id\":\"3674\"},{\"id\":\"3678\"}],\"left\":[{\"id\":\"3675\"}],\"renderers\":[{\"id\":\"3696\"},{\"id\":\"3701\"}],\"title\":{\"id\":\"3847\"},\"toolbar\":{\"id\":\"3686\"},\"x_range\":{\"id\":\"3663\"},\"x_scale\":{\"id\":\"3667\"},\"y_range\":{\"id\":\"3665\"},\"y_scale\":{\"id\":\"3669\"}},\"id\":\"3662\",\"subtype\":\"Figure\",\"type\":\"Plot\"},{\"attributes\":{\"overlay\":{\"id\":\"3685\"}},\"id\":\"3681\",\"type\":\"BoxZoomTool\"},{\"attributes\":{},\"id\":\"3682\",\"type\":\"SaveTool\"},{\"attributes\":{},\"id\":\"3683\",\"type\":\"ResetTool\"},{\"attributes\":{\"source\":{\"id\":\"3693\"}},\"id\":\"3697\",\"type\":\"CDSView\"},{\"attributes\":{\"line_color\":\"blue\",\"x\":{\"field\":\"x\"},\"y\":{\"field\":\"y\"}},\"id\":\"3694\",\"type\":\"Line\"},{\"attributes\":{},\"id\":\"3667\",\"type\":\"LinearScale\"},{\"attributes\":{\"data\":{\"x\":{\"__ndarray__\":\"AAAAAAAAAACamZmZmZm5P5qZmZmZmck/NDMzMzMz0z+amZmZmZnZPwAAAAAAAOA/NDMzMzMz4z9nZmZmZmbmP5qZmZmZmek/zczMzMzM7D8AAAAAAADwPw==\",\"dtype\":\"float64\",\"order\":\"little\",\"shape\":[11]},\"y\":{\"__ndarray__\":\"K4cW2c737z+SwnHZGrTwP3QsbiDQMuw/HGsONR/u1T9slnIn7NHnv47L6IxOdQTAJ9JnUcEcFcDMoNJS2C8iwD79k1qqYyzAYg33lhDHNMCdtv2T7wo9wA==\",\"dtype\":\"float64\",\"order\":\"little\",\"shape\":[11]}},\"selected\":{\"id\":\"3855\"},\"selection_policy\":{\"id\":\"3856\"}},\"id\":\"3698\",\"type\":\"ColumnDataSource\"},{\"attributes\":{\"line_alpha\":0.1,\"line_color\":\"blue\",\"x\":{\"field\":\"x\"},\"y\":{\"field\":\"y\"}},\"id\":\"3695\",\"type\":\"Line\"},{\"attributes\":{\"data_source\":{\"id\":\"3698\"},\"glyph\":{\"id\":\"3699\"},\"hover_glyph\":null,\"muted_glyph\":null,\"nonselection_glyph\":{\"id\":\"3700\"},\"selection_glyph\":null,\"view\":{\"id\":\"3702\"}},\"id\":\"3701\",\"type\":\"GlyphRenderer\"},{\"attributes\":{\"line_color\":\"red\",\"x\":{\"field\":\"x\"},\"y\":{\"field\":\"y\"}},\"id\":\"3699\",\"type\":\"Line\"},{\"attributes\":{\"source\":{\"id\":\"3698\"}},\"id\":\"3702\",\"type\":\"CDSView\"},{\"attributes\":{},\"id\":\"3663\",\"type\":\"DataRange1d\"},{\"attributes\":{\"line_alpha\":0.1,\"line_color\":\"red\",\"x\":{\"field\":\"x\"},\"y\":{\"field\":\"y\"}},\"id\":\"3700\",\"type\":\"Line\"},{\"attributes\":{\"formatter\":{\"id\":\"3851\"},\"ticker\":{\"id\":\"3672\"}},\"id\":\"3671\",\"type\":\"LinearAxis\"},{\"attributes\":{},\"id\":\"3672\",\"type\":\"BasicTicker\"},{\"attributes\":{\"bottom_units\":\"screen\",\"fill_alpha\":0.5,\"fill_color\":\"lightgrey\",\"left_units\":\"screen\",\"level\":\"overlay\",\"line_alpha\":1.0,\"line_color\":\"black\",\"line_dash\":[4,4],\"line_width\":2,\"right_units\":\"screen\",\"top_units\":\"screen\"},\"id\":\"3685\",\"type\":\"BoxAnnotation\"},{\"attributes\":{},\"id\":\"3665\",\"type\":\"DataRange1d\"},{\"attributes\":{\"text\":\"\"},\"id\":\"3847\",\"type\":\"Title\"},{\"attributes\":{\"data_source\":{\"id\":\"3693\"},\"glyph\":{\"id\":\"3694\"},\"hover_glyph\":null,\"muted_glyph\":null,\"nonselection_glyph\":{\"id\":\"3695\"},\"selection_glyph\":null,\"view\":{\"id\":\"3697\"}},\"id\":\"3696\",\"type\":\"GlyphRenderer\"},{\"attributes\":{},\"id\":\"3669\",\"type\":\"LinearScale\"},{\"attributes\":{},\"id\":\"3853\",\"type\":\"Selection\"},{\"attributes\":{},\"id\":\"3856\",\"type\":\"UnionRenderers\"},{\"attributes\":{},\"id\":\"3849\",\"type\":\"BasicTickFormatter\"},{\"attributes\":{},\"id\":\"3854\",\"type\":\"UnionRenderers\"},{\"attributes\":{\"axis\":{\"id\":\"3671\"},\"ticker\":null},\"id\":\"3674\",\"type\":\"Grid\"},{\"attributes\":{},\"id\":\"3851\",\"type\":\"BasicTickFormatter\"},{\"attributes\":{},\"id\":\"3684\",\"type\":\"HelpTool\"},{\"attributes\":{\"formatter\":{\"id\":\"3849\"},\"ticker\":{\"id\":\"3676\"}},\"id\":\"3675\",\"type\":\"LinearAxis\"},{\"attributes\":{},\"id\":\"3676\",\"type\":\"BasicTicker\"},{\"attributes\":{\"axis\":{\"id\":\"3675\"},\"dimension\":1,\"ticker\":null},\"id\":\"3678\",\"type\":\"Grid\"},{\"attributes\":{\"data\":{\"x\":{\"__ndarray__\":\"AAAAAAAAAACamZmZmZm5P5qZmZmZmck/NDMzMzMz0z+amZmZmZnZPwAAAAAAAOA/NDMzMzMz4z9nZmZmZmbmP5qZmZmZmek/zczMzMzM7D8AAAAAAADwPw==\",\"dtype\":\"float64\",\"order\":\"little\",\"shape\":[11]},\"y\":{\"__ndarray__\":\"K4cW2c737z+zbWG9Q2HwP8kjGqP+2Oo/iA2zhCPG0T+PTRyJOKXqvx5ZlbA1WwXApRt4rNioFcB/KIL4p4IiwHevPlh0wizAeMqUEmX3NMCdtv2T7wo9wA==\",\"dtype\":\"float64\",\"order\":\"little\",\"shape\":[11]}},\"selected\":{\"id\":\"3853\"},\"selection_policy\":{\"id\":\"3854\"}},\"id\":\"3693\",\"type\":\"ColumnDataSource\"},{\"attributes\":{},\"id\":\"3855\",\"type\":\"Selection\"},{\"attributes\":{},\"id\":\"3680\",\"type\":\"WheelZoomTool\"},{\"attributes\":{\"active_drag\":\"auto\",\"active_inspect\":\"auto\",\"active_multi\":null,\"active_scroll\":\"auto\",\"active_tap\":\"auto\",\"tools\":[{\"id\":\"3679\"},{\"id\":\"3680\"},{\"id\":\"3681\"},{\"id\":\"3682\"},{\"id\":\"3683\"},{\"id\":\"3684\"}]},\"id\":\"3686\",\"type\":\"Toolbar\"},{\"attributes\":{},\"id\":\"3679\",\"type\":\"PanTool\"}],\"root_ids\":[\"3662\"]},\"title\":\"Bokeh Application\",\"version\":\"2.2.3\"}};\n",
       "  var render_items = [{\"docid\":\"9da4c767-f8aa-49bc-a5da-924cb46b8071\",\"root_ids\":[\"3662\"],\"roots\":{\"3662\":\"f634d3da-c95d-492f-bde2-7a547609cdb0\"}}];\n",
       "  root.Bokeh.embed.embed_items_notebook(docs_json, render_items);\n",
       "\n",
       "  }\n",
       "  if (root.Bokeh !== undefined) {\n",
       "    embed_document(root);\n",
       "  } else {\n",
       "    var attempts = 0;\n",
       "    var timer = setInterval(function(root) {\n",
       "      if (root.Bokeh !== undefined) {\n",
       "        clearInterval(timer);\n",
       "        embed_document(root);\n",
       "      } else {\n",
       "        attempts++;\n",
       "        if (attempts > 100) {\n",
       "          clearInterval(timer);\n",
       "          console.log(\"Bokeh: ERROR: Unable to run BokehJS code because BokehJS library is missing\");\n",
       "        }\n",
       "      }\n",
       "    }, 10, root)\n",
       "  }\n",
       "})(window);"
      ],
      "application/vnd.bokehjs_exec.v0+json": ""
     },
     "metadata": {
      "application/vnd.bokehjs_exec.v0+json": {
       "id": "3662"
      }
     },
     "output_type": "display_data"
    },
    {
     "name": "stdout",
     "output_type": "stream",
     "text": [
      "t= 0.2\n"
     ]
    },
    {
     "data": {
      "text/html": [
       "\n",
       "\n",
       "\n",
       "\n",
       "\n",
       "\n",
       "  <div class=\"bk-root\" id=\"5c140952-cc91-4c3c-aa7f-19dec6c60e37\" data-root-id=\"3912\"></div>\n"
      ]
     },
     "metadata": {},
     "output_type": "display_data"
    },
    {
     "data": {
      "application/javascript": [
       "(function(root) {\n",
       "  function embed_document(root) {\n",
       "    \n",
       "  var docs_json = {\"3b42e48f-912b-4196-aa74-7947dfdbca28\":{\"roots\":{\"references\":[{\"attributes\":{\"below\":[{\"id\":\"3921\"}],\"center\":[{\"id\":\"3924\"},{\"id\":\"3928\"}],\"left\":[{\"id\":\"3925\"}],\"renderers\":[{\"id\":\"3946\"},{\"id\":\"3951\"}],\"title\":{\"id\":\"4108\"},\"toolbar\":{\"id\":\"3936\"},\"x_range\":{\"id\":\"3913\"},\"x_scale\":{\"id\":\"3917\"},\"y_range\":{\"id\":\"3915\"},\"y_scale\":{\"id\":\"3919\"}},\"id\":\"3912\",\"subtype\":\"Figure\",\"type\":\"Plot\"},{\"attributes\":{},\"id\":\"4114\",\"type\":\"Selection\"},{\"attributes\":{},\"id\":\"4115\",\"type\":\"UnionRenderers\"},{\"attributes\":{},\"id\":\"4112\",\"type\":\"BasicTickFormatter\"},{\"attributes\":{\"formatter\":{\"id\":\"4112\"},\"ticker\":{\"id\":\"3922\"}},\"id\":\"3921\",\"type\":\"LinearAxis\"},{\"attributes\":{},\"id\":\"3922\",\"type\":\"BasicTicker\"},{\"attributes\":{},\"id\":\"3919\",\"type\":\"LinearScale\"},{\"attributes\":{},\"id\":\"3934\",\"type\":\"HelpTool\"},{\"attributes\":{},\"id\":\"3917\",\"type\":\"LinearScale\"},{\"attributes\":{\"data\":{\"x\":{\"__ndarray__\":\"AAAAAAAAAACamZmZmZm5P5qZmZmZmck/NDMzMzMz0z+amZmZmZnZPwAAAAAAAOA/NDMzMzMz4z9nZmZmZmbmP5qZmZmZmek/zczMzMzM7D8AAAAAAADwPw==\",\"dtype\":\"float64\",\"order\":\"little\",\"shape\":[11]},\"y\":{\"__ndarray__\":\"WDm0yHa+7z9fmMuq8TfuP9TQm2PibOQ/OS9ul2ZDub/b2Mct0wf3v9DlqD1SfQzAzTaK/zuVGsAU8reeQMElwOs/cPnLbjDAw7Q+BhpuN8DvQ5UCAu4/wA==\",\"dtype\":\"float64\",\"order\":\"little\",\"shape\":[11]}},\"selected\":{\"id\":\"4114\"},\"selection_policy\":{\"id\":\"4115\"}},\"id\":\"3943\",\"type\":\"ColumnDataSource\"},{\"attributes\":{},\"id\":\"3915\",\"type\":\"DataRange1d\"},{\"attributes\":{\"axis\":{\"id\":\"3921\"},\"ticker\":null},\"id\":\"3924\",\"type\":\"Grid\"},{\"attributes\":{},\"id\":\"3930\",\"type\":\"WheelZoomTool\"},{\"attributes\":{\"active_drag\":\"auto\",\"active_inspect\":\"auto\",\"active_multi\":null,\"active_scroll\":\"auto\",\"active_tap\":\"auto\",\"tools\":[{\"id\":\"3929\"},{\"id\":\"3930\"},{\"id\":\"3931\"},{\"id\":\"3932\"},{\"id\":\"3933\"},{\"id\":\"3934\"}]},\"id\":\"3936\",\"type\":\"Toolbar\"},{\"attributes\":{\"axis\":{\"id\":\"3925\"},\"dimension\":1,\"ticker\":null},\"id\":\"3928\",\"type\":\"Grid\"},{\"attributes\":{},\"id\":\"3929\",\"type\":\"PanTool\"},{\"attributes\":{},\"id\":\"4116\",\"type\":\"Selection\"},{\"attributes\":{},\"id\":\"4117\",\"type\":\"UnionRenderers\"},{\"attributes\":{\"overlay\":{\"id\":\"3935\"}},\"id\":\"3931\",\"type\":\"BoxZoomTool\"},{\"attributes\":{},\"id\":\"3932\",\"type\":\"SaveTool\"},{\"attributes\":{},\"id\":\"3933\",\"type\":\"ResetTool\"},{\"attributes\":{\"source\":{\"id\":\"3943\"}},\"id\":\"3947\",\"type\":\"CDSView\"},{\"attributes\":{\"line_color\":\"blue\",\"x\":{\"field\":\"x\"},\"y\":{\"field\":\"y\"}},\"id\":\"3944\",\"type\":\"Line\"},{\"attributes\":{},\"id\":\"3926\",\"type\":\"BasicTicker\"},{\"attributes\":{\"data\":{\"x\":{\"__ndarray__\":\"AAAAAAAAAACamZmZmZm5P5qZmZmZmck/NDMzMzMz0z+amZmZmZnZPwAAAAAAAOA/NDMzMzMz4z9nZmZmZmbmP5qZmZmZmek/zczMzMzM7D8AAAAAAADwPw==\",\"dtype\":\"float64\",\"order\":\"little\",\"shape\":[11]},\"y\":{\"__ndarray__\":\"WDm0yHa+7z/g+XbLOb7vP9LmtyzSXec/QIp7VBbLoz/GY71pBBb0vx7k7OJcogrANtSS2Nd1GcCDlNAnURklwLotJ1LbEjDApG3cZzMiN8DvQ5UCAu4/wA==\",\"dtype\":\"float64\",\"order\":\"little\",\"shape\":[11]}},\"selected\":{\"id\":\"4116\"},\"selection_policy\":{\"id\":\"4117\"}},\"id\":\"3948\",\"type\":\"ColumnDataSource\"},{\"attributes\":{\"data_source\":{\"id\":\"3943\"},\"glyph\":{\"id\":\"3944\"},\"hover_glyph\":null,\"muted_glyph\":null,\"nonselection_glyph\":{\"id\":\"3945\"},\"selection_glyph\":null,\"view\":{\"id\":\"3947\"}},\"id\":\"3946\",\"type\":\"GlyphRenderer\"},{\"attributes\":{\"line_alpha\":0.1,\"line_color\":\"blue\",\"x\":{\"field\":\"x\"},\"y\":{\"field\":\"y\"}},\"id\":\"3945\",\"type\":\"Line\"},{\"attributes\":{},\"id\":\"3913\",\"type\":\"DataRange1d\"},{\"attributes\":{\"data_source\":{\"id\":\"3948\"},\"glyph\":{\"id\":\"3949\"},\"hover_glyph\":null,\"muted_glyph\":null,\"nonselection_glyph\":{\"id\":\"3950\"},\"selection_glyph\":null,\"view\":{\"id\":\"3952\"}},\"id\":\"3951\",\"type\":\"GlyphRenderer\"},{\"attributes\":{\"line_color\":\"red\",\"x\":{\"field\":\"x\"},\"y\":{\"field\":\"y\"}},\"id\":\"3949\",\"type\":\"Line\"},{\"attributes\":{\"source\":{\"id\":\"3948\"}},\"id\":\"3952\",\"type\":\"CDSView\"},{\"attributes\":{\"line_alpha\":0.1,\"line_color\":\"red\",\"x\":{\"field\":\"x\"},\"y\":{\"field\":\"y\"}},\"id\":\"3950\",\"type\":\"Line\"},{\"attributes\":{\"formatter\":{\"id\":\"4110\"},\"ticker\":{\"id\":\"3926\"}},\"id\":\"3925\",\"type\":\"LinearAxis\"},{\"attributes\":{\"bottom_units\":\"screen\",\"fill_alpha\":0.5,\"fill_color\":\"lightgrey\",\"left_units\":\"screen\",\"level\":\"overlay\",\"line_alpha\":1.0,\"line_color\":\"black\",\"line_dash\":[4,4],\"line_width\":2,\"right_units\":\"screen\",\"top_units\":\"screen\"},\"id\":\"3935\",\"type\":\"BoxAnnotation\"},{\"attributes\":{\"text\":\"\"},\"id\":\"4108\",\"type\":\"Title\"},{\"attributes\":{},\"id\":\"4110\",\"type\":\"BasicTickFormatter\"}],\"root_ids\":[\"3912\"]},\"title\":\"Bokeh Application\",\"version\":\"2.2.3\"}};\n",
       "  var render_items = [{\"docid\":\"3b42e48f-912b-4196-aa74-7947dfdbca28\",\"root_ids\":[\"3912\"],\"roots\":{\"3912\":\"5c140952-cc91-4c3c-aa7f-19dec6c60e37\"}}];\n",
       "  root.Bokeh.embed.embed_items_notebook(docs_json, render_items);\n",
       "\n",
       "  }\n",
       "  if (root.Bokeh !== undefined) {\n",
       "    embed_document(root);\n",
       "  } else {\n",
       "    var attempts = 0;\n",
       "    var timer = setInterval(function(root) {\n",
       "      if (root.Bokeh !== undefined) {\n",
       "        clearInterval(timer);\n",
       "        embed_document(root);\n",
       "      } else {\n",
       "        attempts++;\n",
       "        if (attempts > 100) {\n",
       "          clearInterval(timer);\n",
       "          console.log(\"Bokeh: ERROR: Unable to run BokehJS code because BokehJS library is missing\");\n",
       "        }\n",
       "      }\n",
       "    }, 10, root)\n",
       "  }\n",
       "})(window);"
      ],
      "application/vnd.bokehjs_exec.v0+json": ""
     },
     "metadata": {
      "application/vnd.bokehjs_exec.v0+json": {
       "id": "3912"
      }
     },
     "output_type": "display_data"
    },
    {
     "name": "stdout",
     "output_type": "stream",
     "text": [
      "t= 0.30000000000000004\n"
     ]
    },
    {
     "data": {
      "text/html": [
       "\n",
       "\n",
       "\n",
       "\n",
       "\n",
       "\n",
       "  <div class=\"bk-root\" id=\"349234a9-24d0-43ec-8873-277458af0227\" data-root-id=\"4173\"></div>\n"
      ]
     },
     "metadata": {},
     "output_type": "display_data"
    },
    {
     "data": {
      "application/javascript": [
       "(function(root) {\n",
       "  function embed_document(root) {\n",
       "    \n",
       "  var docs_json = {\"591ecb0d-d183-4d6b-8692-21b1839485fa\":{\"roots\":{\"references\":[{\"attributes\":{\"below\":[{\"id\":\"4182\"}],\"center\":[{\"id\":\"4185\"},{\"id\":\"4189\"}],\"left\":[{\"id\":\"4186\"}],\"renderers\":[{\"id\":\"4207\"},{\"id\":\"4212\"}],\"title\":{\"id\":\"4380\"},\"toolbar\":{\"id\":\"4197\"},\"x_range\":{\"id\":\"4174\"},\"x_scale\":{\"id\":\"4178\"},\"y_range\":{\"id\":\"4176\"},\"y_scale\":{\"id\":\"4180\"}},\"id\":\"4173\",\"subtype\":\"Figure\",\"type\":\"Plot\"},{\"attributes\":{\"bottom_units\":\"screen\",\"fill_alpha\":0.5,\"fill_color\":\"lightgrey\",\"left_units\":\"screen\",\"level\":\"overlay\",\"line_alpha\":1.0,\"line_color\":\"black\",\"line_dash\":[4,4],\"line_width\":2,\"right_units\":\"screen\",\"top_units\":\"screen\"},\"id\":\"4196\",\"type\":\"BoxAnnotation\"},{\"attributes\":{\"text\":\"\"},\"id\":\"4380\",\"type\":\"Title\"},{\"attributes\":{},\"id\":\"4193\",\"type\":\"SaveTool\"},{\"attributes\":{},\"id\":\"4382\",\"type\":\"BasicTickFormatter\"},{\"attributes\":{},\"id\":\"4386\",\"type\":\"Selection\"},{\"attributes\":{},\"id\":\"4387\",\"type\":\"UnionRenderers\"},{\"attributes\":{},\"id\":\"4384\",\"type\":\"BasicTickFormatter\"},{\"attributes\":{},\"id\":\"4191\",\"type\":\"WheelZoomTool\"},{\"attributes\":{},\"id\":\"4174\",\"type\":\"DataRange1d\"},{\"attributes\":{},\"id\":\"4194\",\"type\":\"ResetTool\"},{\"attributes\":{},\"id\":\"4190\",\"type\":\"PanTool\"},{\"attributes\":{\"axis\":{\"id\":\"4182\"},\"ticker\":null},\"id\":\"4185\",\"type\":\"Grid\"},{\"attributes\":{\"data_source\":{\"id\":\"4204\"},\"glyph\":{\"id\":\"4205\"},\"hover_glyph\":null,\"muted_glyph\":null,\"nonselection_glyph\":{\"id\":\"4206\"},\"selection_glyph\":null,\"view\":{\"id\":\"4208\"}},\"id\":\"4207\",\"type\":\"GlyphRenderer\"},{\"attributes\":{\"overlay\":{\"id\":\"4196\"}},\"id\":\"4192\",\"type\":\"BoxZoomTool\"},{\"attributes\":{},\"id\":\"4388\",\"type\":\"Selection\"},{\"attributes\":{},\"id\":\"4176\",\"type\":\"DataRange1d\"},{\"attributes\":{},\"id\":\"4389\",\"type\":\"UnionRenderers\"},{\"attributes\":{},\"id\":\"4183\",\"type\":\"BasicTicker\"},{\"attributes\":{},\"id\":\"4195\",\"type\":\"HelpTool\"},{\"attributes\":{\"formatter\":{\"id\":\"4382\"},\"ticker\":{\"id\":\"4187\"}},\"id\":\"4186\",\"type\":\"LinearAxis\"},{\"attributes\":{\"source\":{\"id\":\"4204\"}},\"id\":\"4208\",\"type\":\"CDSView\"},{\"attributes\":{\"line_color\":\"blue\",\"x\":{\"field\":\"x\"},\"y\":{\"field\":\"y\"}},\"id\":\"4205\",\"type\":\"Line\"},{\"attributes\":{\"active_drag\":\"auto\",\"active_inspect\":\"auto\",\"active_multi\":null,\"active_scroll\":\"auto\",\"active_tap\":\"auto\",\"tools\":[{\"id\":\"4190\"},{\"id\":\"4191\"},{\"id\":\"4192\"},{\"id\":\"4193\"},{\"id\":\"4194\"},{\"id\":\"4195\"}]},\"id\":\"4197\",\"type\":\"Toolbar\"},{\"attributes\":{},\"id\":\"4178\",\"type\":\"LinearScale\"},{\"attributes\":{\"data\":{\"x\":{\"__ndarray__\":\"AAAAAAAAAACamZmZmZm5P5qZmZmZmck/NDMzMzMz0z+amZmZmZnZPwAAAAAAAOA/NDMzMzMz4z9nZmZmZmbmP5qZmZmZmek/zczMzMzM7D8AAAAAAADwPw==\",\"dtype\":\"float64\",\"order\":\"little\",\"shape\":[11]},\"y\":{\"__ndarray__\":\"iUFg5dAi7z+kGic+ok/tPzujLMDqYeE/fNh8N8gN1L9SpR1P1Tj9v9e9rfpvsRDA/kpRePIkHsA5XUfm8DMowKFUWFqHDzLAAlOtig6cOcDU8deYb3lBwA==\",\"dtype\":\"float64\",\"order\":\"little\",\"shape\":[11]}},\"selected\":{\"id\":\"4388\"},\"selection_policy\":{\"id\":\"4389\"}},\"id\":\"4209\",\"type\":\"ColumnDataSource\"},{\"attributes\":{\"formatter\":{\"id\":\"4384\"},\"ticker\":{\"id\":\"4183\"}},\"id\":\"4182\",\"type\":\"LinearAxis\"},{\"attributes\":{\"line_alpha\":0.1,\"line_color\":\"blue\",\"x\":{\"field\":\"x\"},\"y\":{\"field\":\"y\"}},\"id\":\"4206\",\"type\":\"Line\"},{\"attributes\":{\"data_source\":{\"id\":\"4209\"},\"glyph\":{\"id\":\"4210\"},\"hover_glyph\":null,\"muted_glyph\":null,\"nonselection_glyph\":{\"id\":\"4211\"},\"selection_glyph\":null,\"view\":{\"id\":\"4213\"}},\"id\":\"4212\",\"type\":\"GlyphRenderer\"},{\"attributes\":{},\"id\":\"4180\",\"type\":\"LinearScale\"},{\"attributes\":{\"line_color\":\"red\",\"x\":{\"field\":\"x\"},\"y\":{\"field\":\"y\"}},\"id\":\"4210\",\"type\":\"Line\"},{\"attributes\":{\"axis\":{\"id\":\"4186\"},\"dimension\":1,\"ticker\":null},\"id\":\"4189\",\"type\":\"Grid\"},{\"attributes\":{\"source\":{\"id\":\"4209\"}},\"id\":\"4213\",\"type\":\"CDSView\"},{\"attributes\":{\"data\":{\"x\":{\"__ndarray__\":\"AAAAAAAAAACamZmZmZm5P5qZmZmZmck/NDMzMzMz0z+amZmZmZnZPwAAAAAAAOA/NDMzMzMz4z9nZmZmZmbmP5qZmZmZmek/zczMzMzM7D8AAAAAAADwPw==\",\"dtype\":\"float64\",\"order\":\"little\",\"shape\":[11]},\"y\":{\"__ndarray__\":\"iUFg5dAi7z88Dq4pXsfqPzVwOWTMQNk/cBSoLtj54L9P0WcriugAwOFKNfmtIBLAFXYTUvvcH8A9/gNoQi8pwPAHdnCDkDLAsySB/3n/OcDU8deYb3lBwA==\",\"dtype\":\"float64\",\"order\":\"little\",\"shape\":[11]}},\"selected\":{\"id\":\"4386\"},\"selection_policy\":{\"id\":\"4387\"}},\"id\":\"4204\",\"type\":\"ColumnDataSource\"},{\"attributes\":{},\"id\":\"4187\",\"type\":\"BasicTicker\"},{\"attributes\":{\"line_alpha\":0.1,\"line_color\":\"red\",\"x\":{\"field\":\"x\"},\"y\":{\"field\":\"y\"}},\"id\":\"4211\",\"type\":\"Line\"}],\"root_ids\":[\"4173\"]},\"title\":\"Bokeh Application\",\"version\":\"2.2.3\"}};\n",
       "  var render_items = [{\"docid\":\"591ecb0d-d183-4d6b-8692-21b1839485fa\",\"root_ids\":[\"4173\"],\"roots\":{\"4173\":\"349234a9-24d0-43ec-8873-277458af0227\"}}];\n",
       "  root.Bokeh.embed.embed_items_notebook(docs_json, render_items);\n",
       "\n",
       "  }\n",
       "  if (root.Bokeh !== undefined) {\n",
       "    embed_document(root);\n",
       "  } else {\n",
       "    var attempts = 0;\n",
       "    var timer = setInterval(function(root) {\n",
       "      if (root.Bokeh !== undefined) {\n",
       "        clearInterval(timer);\n",
       "        embed_document(root);\n",
       "      } else {\n",
       "        attempts++;\n",
       "        if (attempts > 100) {\n",
       "          clearInterval(timer);\n",
       "          console.log(\"Bokeh: ERROR: Unable to run BokehJS code because BokehJS library is missing\");\n",
       "        }\n",
       "      }\n",
       "    }, 10, root)\n",
       "  }\n",
       "})(window);"
      ],
      "application/vnd.bokehjs_exec.v0+json": ""
     },
     "metadata": {
      "application/vnd.bokehjs_exec.v0+json": {
       "id": "4173"
      }
     },
     "output_type": "display_data"
    },
    {
     "name": "stdout",
     "output_type": "stream",
     "text": [
      "t= 0.4\n"
     ]
    },
    {
     "data": {
      "text/html": [
       "\n",
       "\n",
       "\n",
       "\n",
       "\n",
       "\n",
       "  <div class=\"bk-root\" id=\"8e26342f-e013-4d12-9c64-87d64b438f59\" data-root-id=\"4445\"></div>\n"
      ]
     },
     "metadata": {},
     "output_type": "display_data"
    },
    {
     "data": {
      "application/javascript": [
       "(function(root) {\n",
       "  function embed_document(root) {\n",
       "    \n",
       "  var docs_json = {\"b101144b-4052-4795-88b5-7573ff466e85\":{\"roots\":{\"references\":[{\"attributes\":{\"below\":[{\"id\":\"4454\"}],\"center\":[{\"id\":\"4457\"},{\"id\":\"4461\"}],\"left\":[{\"id\":\"4458\"}],\"renderers\":[{\"id\":\"4479\"},{\"id\":\"4484\"}],\"title\":{\"id\":\"4663\"},\"toolbar\":{\"id\":\"4469\"},\"x_range\":{\"id\":\"4446\"},\"x_scale\":{\"id\":\"4450\"},\"y_range\":{\"id\":\"4448\"},\"y_scale\":{\"id\":\"4452\"}},\"id\":\"4445\",\"subtype\":\"Figure\",\"type\":\"Plot\"},{\"attributes\":{\"data_source\":{\"id\":\"4481\"},\"glyph\":{\"id\":\"4482\"},\"hover_glyph\":null,\"muted_glyph\":null,\"nonselection_glyph\":{\"id\":\"4483\"},\"selection_glyph\":null,\"view\":{\"id\":\"4485\"}},\"id\":\"4484\",\"type\":\"GlyphRenderer\"},{\"attributes\":{\"source\":{\"id\":\"4481\"}},\"id\":\"4485\",\"type\":\"CDSView\"},{\"attributes\":{},\"id\":\"4452\",\"type\":\"LinearScale\"},{\"attributes\":{\"text\":\"\"},\"id\":\"4663\",\"type\":\"Title\"},{\"attributes\":{\"active_drag\":\"auto\",\"active_inspect\":\"auto\",\"active_multi\":null,\"active_scroll\":\"auto\",\"active_tap\":\"auto\",\"tools\":[{\"id\":\"4462\"},{\"id\":\"4463\"},{\"id\":\"4464\"},{\"id\":\"4465\"},{\"id\":\"4466\"},{\"id\":\"4467\"}]},\"id\":\"4469\",\"type\":\"Toolbar\"},{\"attributes\":{\"line_color\":\"red\",\"x\":{\"field\":\"x\"},\"y\":{\"field\":\"y\"}},\"id\":\"4482\",\"type\":\"Line\"},{\"attributes\":{\"line_alpha\":0.1,\"line_color\":\"red\",\"x\":{\"field\":\"x\"},\"y\":{\"field\":\"y\"}},\"id\":\"4483\",\"type\":\"Line\"},{\"attributes\":{\"line_alpha\":0.1,\"line_color\":\"blue\",\"x\":{\"field\":\"x\"},\"y\":{\"field\":\"y\"}},\"id\":\"4478\",\"type\":\"Line\"},{\"attributes\":{\"data\":{\"x\":{\"__ndarray__\":\"AAAAAAAAAACamZmZmZm5P5qZmZmZmck/NDMzMzMz0z+amZmZmZnZPwAAAAAAAOA/NDMzMzMz4z9nZmZmZmbmP5qZmZmZmek/zczMzMzM7D8AAAAAAADwPw==\",\"dtype\":\"float64\",\"order\":\"little\",\"shape\":[11]},\"y\":{\"__ndarray__\":\"wMqhRbbz7T9zEnshSOvpP2wZp+LlG9Q/DA4E0tcE578mPUsc/rQDwLhjSb+QYRTAkCjpBhuYIcA3iM78yYIrwAI6KX1iKTTAKoS1Nis2PMA/rkwsiA1DwA==\",\"dtype\":\"float64\",\"order\":\"little\",\"shape\":[11]}},\"selected\":{\"id\":\"4671\"},\"selection_policy\":{\"id\":\"4672\"}},\"id\":\"4481\",\"type\":\"ColumnDataSource\"},{\"attributes\":{},\"id\":\"4670\",\"type\":\"UnionRenderers\"},{\"attributes\":{},\"id\":\"4467\",\"type\":\"HelpTool\"},{\"attributes\":{},\"id\":\"4448\",\"type\":\"DataRange1d\"},{\"attributes\":{\"data_source\":{\"id\":\"4476\"},\"glyph\":{\"id\":\"4477\"},\"hover_glyph\":null,\"muted_glyph\":null,\"nonselection_glyph\":{\"id\":\"4478\"},\"selection_glyph\":null,\"view\":{\"id\":\"4480\"}},\"id\":\"4479\",\"type\":\"GlyphRenderer\"},{\"attributes\":{},\"id\":\"4462\",\"type\":\"PanTool\"},{\"attributes\":{\"source\":{\"id\":\"4476\"}},\"id\":\"4480\",\"type\":\"CDSView\"},{\"attributes\":{\"line_color\":\"blue\",\"x\":{\"field\":\"x\"},\"y\":{\"field\":\"y\"}},\"id\":\"4477\",\"type\":\"Line\"},{\"attributes\":{},\"id\":\"4446\",\"type\":\"DataRange1d\"},{\"attributes\":{\"formatter\":{\"id\":\"4667\"},\"ticker\":{\"id\":\"4455\"}},\"id\":\"4454\",\"type\":\"LinearAxis\"},{\"attributes\":{},\"id\":\"4450\",\"type\":\"LinearScale\"},{\"attributes\":{},\"id\":\"4669\",\"type\":\"Selection\"},{\"attributes\":{},\"id\":\"4667\",\"type\":\"BasicTickFormatter\"},{\"attributes\":{\"data\":{\"x\":{\"__ndarray__\":\"AAAAAAAAAACamZmZmZm5P5qZmZmZmck/NDMzMzMz0z+amZmZmZnZPwAAAAAAAOA/NDMzMzMz4z9nZmZmZmbmP5qZmZmZmek/zczMzMzM7D8AAAAAAADwPw==\",\"dtype\":\"float64\",\"order\":\"little\",\"shape\":[11]},\"y\":{\"__ndarray__\":\"wMqhRbbz7T/cMPZC1kTmP3DbA0zdY7o/x5dkTMRf8L/y4GfK4uIGwCv86OatWBbAWFYlMi7BIsCHVgFWh8wswN0XYVdNzDTAH6bS8MetPMA/rkwsiA1DwA==\",\"dtype\":\"float64\",\"order\":\"little\",\"shape\":[11]}},\"selected\":{\"id\":\"4669\"},\"selection_policy\":{\"id\":\"4670\"}},\"id\":\"4476\",\"type\":\"ColumnDataSource\"},{\"attributes\":{},\"id\":\"4459\",\"type\":\"BasicTicker\"},{\"attributes\":{},\"id\":\"4465\",\"type\":\"SaveTool\"},{\"attributes\":{},\"id\":\"4665\",\"type\":\"BasicTickFormatter\"},{\"attributes\":{\"axis\":{\"id\":\"4454\"},\"ticker\":null},\"id\":\"4457\",\"type\":\"Grid\"},{\"attributes\":{\"bottom_units\":\"screen\",\"fill_alpha\":0.5,\"fill_color\":\"lightgrey\",\"left_units\":\"screen\",\"level\":\"overlay\",\"line_alpha\":1.0,\"line_color\":\"black\",\"line_dash\":[4,4],\"line_width\":2,\"right_units\":\"screen\",\"top_units\":\"screen\"},\"id\":\"4468\",\"type\":\"BoxAnnotation\"},{\"attributes\":{\"axis\":{\"id\":\"4458\"},\"dimension\":1,\"ticker\":null},\"id\":\"4461\",\"type\":\"Grid\"},{\"attributes\":{},\"id\":\"4672\",\"type\":\"UnionRenderers\"},{\"attributes\":{},\"id\":\"4463\",\"type\":\"WheelZoomTool\"},{\"attributes\":{\"overlay\":{\"id\":\"4468\"}},\"id\":\"4464\",\"type\":\"BoxZoomTool\"},{\"attributes\":{},\"id\":\"4466\",\"type\":\"ResetTool\"},{\"attributes\":{\"formatter\":{\"id\":\"4665\"},\"ticker\":{\"id\":\"4459\"}},\"id\":\"4458\",\"type\":\"LinearAxis\"},{\"attributes\":{},\"id\":\"4671\",\"type\":\"Selection\"},{\"attributes\":{},\"id\":\"4455\",\"type\":\"BasicTicker\"}],\"root_ids\":[\"4445\"]},\"title\":\"Bokeh Application\",\"version\":\"2.2.3\"}};\n",
       "  var render_items = [{\"docid\":\"b101144b-4052-4795-88b5-7573ff466e85\",\"root_ids\":[\"4445\"],\"roots\":{\"4445\":\"8e26342f-e013-4d12-9c64-87d64b438f59\"}}];\n",
       "  root.Bokeh.embed.embed_items_notebook(docs_json, render_items);\n",
       "\n",
       "  }\n",
       "  if (root.Bokeh !== undefined) {\n",
       "    embed_document(root);\n",
       "  } else {\n",
       "    var attempts = 0;\n",
       "    var timer = setInterval(function(root) {\n",
       "      if (root.Bokeh !== undefined) {\n",
       "        clearInterval(timer);\n",
       "        embed_document(root);\n",
       "      } else {\n",
       "        attempts++;\n",
       "        if (attempts > 100) {\n",
       "          clearInterval(timer);\n",
       "          console.log(\"Bokeh: ERROR: Unable to run BokehJS code because BokehJS library is missing\");\n",
       "        }\n",
       "      }\n",
       "    }, 10, root)\n",
       "  }\n",
       "})(window);"
      ],
      "application/vnd.bokehjs_exec.v0+json": ""
     },
     "metadata": {
      "application/vnd.bokehjs_exec.v0+json": {
       "id": "4445"
      }
     },
     "output_type": "display_data"
    },
    {
     "name": "stdout",
     "output_type": "stream",
     "text": [
      "t= 0.5\n"
     ]
    },
    {
     "data": {
      "text/html": [
       "\n",
       "\n",
       "\n",
       "\n",
       "\n",
       "\n",
       "  <div class=\"bk-root\" id=\"9f1355a7-c4cf-4543-8434-2696c5bd649b\" data-root-id=\"4728\"></div>\n"
      ]
     },
     "metadata": {},
     "output_type": "display_data"
    },
    {
     "data": {
      "application/javascript": [
       "(function(root) {\n",
       "  function embed_document(root) {\n",
       "    \n",
       "  var docs_json = {\"15b229dd-60d2-40c9-a778-48d870ed5c8a\":{\"roots\":{\"references\":[{\"attributes\":{\"below\":[{\"id\":\"4737\"}],\"center\":[{\"id\":\"4740\"},{\"id\":\"4744\"}],\"left\":[{\"id\":\"4741\"}],\"renderers\":[{\"id\":\"4762\"},{\"id\":\"4767\"}],\"title\":{\"id\":\"4957\"},\"toolbar\":{\"id\":\"4752\"},\"x_range\":{\"id\":\"4729\"},\"x_scale\":{\"id\":\"4733\"},\"y_range\":{\"id\":\"4731\"},\"y_scale\":{\"id\":\"4735\"}},\"id\":\"4728\",\"subtype\":\"Figure\",\"type\":\"Plot\"},{\"attributes\":{},\"id\":\"4961\",\"type\":\"BasicTickFormatter\"},{\"attributes\":{},\"id\":\"4749\",\"type\":\"ResetTool\"},{\"attributes\":{},\"id\":\"4963\",\"type\":\"Selection\"},{\"attributes\":{\"formatter\":{\"id\":\"4959\"},\"ticker\":{\"id\":\"4742\"}},\"id\":\"4741\",\"type\":\"LinearAxis\"},{\"attributes\":{},\"id\":\"4959\",\"type\":\"BasicTickFormatter\"},{\"attributes\":{},\"id\":\"4735\",\"type\":\"LinearScale\"},{\"attributes\":{\"line_alpha\":0.1,\"line_color\":\"red\",\"x\":{\"field\":\"x\"},\"y\":{\"field\":\"y\"}},\"id\":\"4766\",\"type\":\"Line\"},{\"attributes\":{},\"id\":\"4750\",\"type\":\"HelpTool\"},{\"attributes\":{\"data\":{\"x\":{\"__ndarray__\":\"AAAAAAAAAACamZmZmZm5P5qZmZmZmck/NDMzMzMz0z+amZmZmZnZPwAAAAAAAOA/NDMzMzMz4z9nZmZmZmbmP5qZmZmZmek/zczMzMzM7D8AAAAAAADwPw==\",\"dtype\":\"float64\",\"order\":\"little\",\"shape\":[11]},\"y\":{\"__ndarray__\":\"AAAAAAAA7D/noWjruIPgP34uCzFt7M6/o2+LMXRS+b+VFv1Rnn0NwAS1L1zi6hrAdkOtEVvEJcCZCoi+Bk8wwKFgeTQnJDfA6ISGMix8P8CJuk5XD7REwA==\",\"dtype\":\"float64\",\"order\":\"little\",\"shape\":[11]}},\"selected\":{\"id\":\"4963\"},\"selection_policy\":{\"id\":\"4964\"}},\"id\":\"4759\",\"type\":\"ColumnDataSource\"},{\"attributes\":{\"source\":{\"id\":\"4759\"}},\"id\":\"4763\",\"type\":\"CDSView\"},{\"attributes\":{},\"id\":\"4745\",\"type\":\"PanTool\"},{\"attributes\":{\"line_color\":\"red\",\"x\":{\"field\":\"x\"},\"y\":{\"field\":\"y\"}},\"id\":\"4765\",\"type\":\"Line\"},{\"attributes\":{\"active_drag\":\"auto\",\"active_inspect\":\"auto\",\"active_multi\":null,\"active_scroll\":\"auto\",\"active_tap\":\"auto\",\"tools\":[{\"id\":\"4745\"},{\"id\":\"4746\"},{\"id\":\"4747\"},{\"id\":\"4748\"},{\"id\":\"4749\"},{\"id\":\"4750\"}]},\"id\":\"4752\",\"type\":\"Toolbar\"},{\"attributes\":{},\"id\":\"4748\",\"type\":\"SaveTool\"},{\"attributes\":{},\"id\":\"4964\",\"type\":\"UnionRenderers\"},{\"attributes\":{\"axis\":{\"id\":\"4737\"},\"ticker\":null},\"id\":\"4740\",\"type\":\"Grid\"},{\"attributes\":{\"text\":\"\"},\"id\":\"4957\",\"type\":\"Title\"},{\"attributes\":{\"source\":{\"id\":\"4764\"}},\"id\":\"4768\",\"type\":\"CDSView\"},{\"attributes\":{},\"id\":\"4742\",\"type\":\"BasicTicker\"},{\"attributes\":{\"data_source\":{\"id\":\"4759\"},\"glyph\":{\"id\":\"4760\"},\"hover_glyph\":null,\"muted_glyph\":null,\"nonselection_glyph\":{\"id\":\"4761\"},\"selection_glyph\":null,\"view\":{\"id\":\"4763\"}},\"id\":\"4762\",\"type\":\"GlyphRenderer\"},{\"attributes\":{},\"id\":\"4731\",\"type\":\"DataRange1d\"},{\"attributes\":{\"line_color\":\"blue\",\"x\":{\"field\":\"x\"},\"y\":{\"field\":\"y\"}},\"id\":\"4760\",\"type\":\"Line\"},{\"attributes\":{},\"id\":\"4738\",\"type\":\"BasicTicker\"},{\"attributes\":{\"data_source\":{\"id\":\"4764\"},\"glyph\":{\"id\":\"4765\"},\"hover_glyph\":null,\"muted_glyph\":null,\"nonselection_glyph\":{\"id\":\"4766\"},\"selection_glyph\":null,\"view\":{\"id\":\"4768\"}},\"id\":\"4767\",\"type\":\"GlyphRenderer\"},{\"attributes\":{\"formatter\":{\"id\":\"4961\"},\"ticker\":{\"id\":\"4738\"}},\"id\":\"4737\",\"type\":\"LinearAxis\"},{\"attributes\":{\"overlay\":{\"id\":\"4751\"}},\"id\":\"4747\",\"type\":\"BoxZoomTool\"},{\"attributes\":{\"data\":{\"x\":{\"__ndarray__\":\"AAAAAAAAAACamZmZmZm5P5qZmZmZmck/NDMzMzMz0z+amZmZmZnZPwAAAAAAAOA/NDMzMzMz4z9nZmZmZmbmP5qZmZmZmek/zczMzMzM7D8AAAAAAADwPw==\",\"dtype\":\"float64\",\"order\":\"little\",\"shape\":[11]},\"y\":{\"__ndarray__\":\"AAAAAAAA7D9ODPqLBGDlP6DjPGs9DKM/3gCBUyj38r+gJnJNBmEJwFl+eJy1ZxjAoYAiu+NOJMDYov3Z7ggvwIKk5fH1YTbAwMdAoxLyPsCJuk5XD7REwA==\",\"dtype\":\"float64\",\"order\":\"little\",\"shape\":[11]}},\"selected\":{\"id\":\"4965\"},\"selection_policy\":{\"id\":\"4966\"}},\"id\":\"4764\",\"type\":\"ColumnDataSource\"},{\"attributes\":{},\"id\":\"4965\",\"type\":\"Selection\"},{\"attributes\":{\"bottom_units\":\"screen\",\"fill_alpha\":0.5,\"fill_color\":\"lightgrey\",\"left_units\":\"screen\",\"level\":\"overlay\",\"line_alpha\":1.0,\"line_color\":\"black\",\"line_dash\":[4,4],\"line_width\":2,\"right_units\":\"screen\",\"top_units\":\"screen\"},\"id\":\"4751\",\"type\":\"BoxAnnotation\"},{\"attributes\":{},\"id\":\"4729\",\"type\":\"DataRange1d\"},{\"attributes\":{},\"id\":\"4746\",\"type\":\"WheelZoomTool\"},{\"attributes\":{},\"id\":\"4966\",\"type\":\"UnionRenderers\"},{\"attributes\":{\"line_alpha\":0.1,\"line_color\":\"blue\",\"x\":{\"field\":\"x\"},\"y\":{\"field\":\"y\"}},\"id\":\"4761\",\"type\":\"Line\"},{\"attributes\":{},\"id\":\"4733\",\"type\":\"LinearScale\"},{\"attributes\":{\"axis\":{\"id\":\"4741\"},\"dimension\":1,\"ticker\":null},\"id\":\"4744\",\"type\":\"Grid\"}],\"root_ids\":[\"4728\"]},\"title\":\"Bokeh Application\",\"version\":\"2.2.3\"}};\n",
       "  var render_items = [{\"docid\":\"15b229dd-60d2-40c9-a778-48d870ed5c8a\",\"root_ids\":[\"4728\"],\"roots\":{\"4728\":\"9f1355a7-c4cf-4543-8434-2696c5bd649b\"}}];\n",
       "  root.Bokeh.embed.embed_items_notebook(docs_json, render_items);\n",
       "\n",
       "  }\n",
       "  if (root.Bokeh !== undefined) {\n",
       "    embed_document(root);\n",
       "  } else {\n",
       "    var attempts = 0;\n",
       "    var timer = setInterval(function(root) {\n",
       "      if (root.Bokeh !== undefined) {\n",
       "        clearInterval(timer);\n",
       "        embed_document(root);\n",
       "      } else {\n",
       "        attempts++;\n",
       "        if (attempts > 100) {\n",
       "          clearInterval(timer);\n",
       "          console.log(\"Bokeh: ERROR: Unable to run BokehJS code because BokehJS library is missing\");\n",
       "        }\n",
       "      }\n",
       "    }, 10, root)\n",
       "  }\n",
       "})(window);"
      ],
      "application/vnd.bokehjs_exec.v0+json": ""
     },
     "metadata": {
      "application/vnd.bokehjs_exec.v0+json": {
       "id": "4728"
      }
     },
     "output_type": "display_data"
    },
    {
     "name": "stdout",
     "output_type": "stream",
     "text": [
      "t= 0.6000000000000001\n"
     ]
    },
    {
     "data": {
      "text/html": [
       "\n",
       "\n",
       "\n",
       "\n",
       "\n",
       "\n",
       "  <div class=\"bk-root\" id=\"9cfea576-436f-467b-b072-71eee1513c11\" data-root-id=\"5022\"></div>\n"
      ]
     },
     "metadata": {},
     "output_type": "display_data"
    },
    {
     "data": {
      "application/javascript": [
       "(function(root) {\n",
       "  function embed_document(root) {\n",
       "    \n",
       "  var docs_json = {\"1737aa79-bf83-4b9a-82db-e8b06fb52df6\":{\"roots\":{\"references\":[{\"attributes\":{\"below\":[{\"id\":\"5031\"}],\"center\":[{\"id\":\"5034\"},{\"id\":\"5038\"}],\"left\":[{\"id\":\"5035\"}],\"renderers\":[{\"id\":\"5056\"},{\"id\":\"5061\"}],\"title\":{\"id\":\"5262\"},\"toolbar\":{\"id\":\"5046\"},\"x_range\":{\"id\":\"5023\"},\"x_scale\":{\"id\":\"5027\"},\"y_range\":{\"id\":\"5025\"},\"y_scale\":{\"id\":\"5029\"}},\"id\":\"5022\",\"subtype\":\"Figure\",\"type\":\"Plot\"},{\"attributes\":{\"line_alpha\":0.1,\"line_color\":\"blue\",\"x\":{\"field\":\"x\"},\"y\":{\"field\":\"y\"}},\"id\":\"5055\",\"type\":\"Line\"},{\"attributes\":{},\"id\":\"5029\",\"type\":\"LinearScale\"},{\"attributes\":{\"line_alpha\":0.1,\"line_color\":\"red\",\"x\":{\"field\":\"x\"},\"y\":{\"field\":\"y\"}},\"id\":\"5060\",\"type\":\"Line\"},{\"attributes\":{},\"id\":\"5271\",\"type\":\"UnionRenderers\"},{\"attributes\":{\"data\":{\"x\":{\"__ndarray__\":\"AAAAAAAAAACamZmZmZm5P5qZmZmZmck/NDMzMzMz0z+amZmZmZnZPwAAAAAAAOA/NDMzMzMz4z9nZmZmZmbmP5qZmZmZmek/zczMzMzM7D8AAAAAAADwPw==\",\"dtype\":\"float64\",\"order\":\"little\",\"shape\":[11]},\"y\":{\"__ndarray__\":\"SQwCK4cW6T9sZlYoYfneP1zaVvKSzdK/MI4Ywjp6+79UxGH1zKwPwFUoam8DyhzAATtsx+U5J8AzHTb2uGQxwMha2e/KujjANnLNA6foQMAH+oO1yW1GwA==\",\"dtype\":\"float64\",\"order\":\"little\",\"shape\":[11]}},\"selected\":{\"id\":\"5270\"},\"selection_policy\":{\"id\":\"5271\"}},\"id\":\"5058\",\"type\":\"ColumnDataSource\"},{\"attributes\":{},\"id\":\"5027\",\"type\":\"LinearScale\"},{\"attributes\":{\"formatter\":{\"id\":\"5264\"},\"ticker\":{\"id\":\"5036\"}},\"id\":\"5035\",\"type\":\"LinearAxis\"},{\"attributes\":{\"formatter\":{\"id\":\"5266\"},\"ticker\":{\"id\":\"5032\"}},\"id\":\"5031\",\"type\":\"LinearAxis\"},{\"attributes\":{},\"id\":\"5025\",\"type\":\"DataRange1d\"},{\"attributes\":{\"active_drag\":\"auto\",\"active_inspect\":\"auto\",\"active_multi\":null,\"active_scroll\":\"auto\",\"active_tap\":\"auto\",\"tools\":[{\"id\":\"5039\"},{\"id\":\"5040\"},{\"id\":\"5041\"},{\"id\":\"5042\"},{\"id\":\"5043\"},{\"id\":\"5044\"}]},\"id\":\"5046\",\"type\":\"Toolbar\"},{\"attributes\":{},\"id\":\"5023\",\"type\":\"DataRange1d\"},{\"attributes\":{\"bottom_units\":\"screen\",\"fill_alpha\":0.5,\"fill_color\":\"lightgrey\",\"left_units\":\"screen\",\"level\":\"overlay\",\"line_alpha\":1.0,\"line_color\":\"black\",\"line_dash\":[4,4],\"line_width\":2,\"right_units\":\"screen\",\"top_units\":\"screen\"},\"id\":\"5045\",\"type\":\"BoxAnnotation\"},{\"attributes\":{},\"id\":\"5269\",\"type\":\"UnionRenderers\"},{\"attributes\":{\"data_source\":{\"id\":\"5053\"},\"glyph\":{\"id\":\"5054\"},\"hover_glyph\":null,\"muted_glyph\":null,\"nonselection_glyph\":{\"id\":\"5055\"},\"selection_glyph\":null,\"view\":{\"id\":\"5057\"}},\"id\":\"5056\",\"type\":\"GlyphRenderer\"},{\"attributes\":{},\"id\":\"5268\",\"type\":\"Selection\"},{\"attributes\":{},\"id\":\"5264\",\"type\":\"BasicTickFormatter\"},{\"attributes\":{\"text\":\"\"},\"id\":\"5262\",\"type\":\"Title\"},{\"attributes\":{\"source\":{\"id\":\"5053\"}},\"id\":\"5057\",\"type\":\"CDSView\"},{\"attributes\":{\"line_color\":\"red\",\"x\":{\"field\":\"x\"},\"y\":{\"field\":\"y\"}},\"id\":\"5059\",\"type\":\"Line\"},{\"attributes\":{\"data_source\":{\"id\":\"5058\"},\"glyph\":{\"id\":\"5059\"},\"hover_glyph\":null,\"muted_glyph\":null,\"nonselection_glyph\":{\"id\":\"5060\"},\"selection_glyph\":null,\"view\":{\"id\":\"5062\"}},\"id\":\"5061\",\"type\":\"GlyphRenderer\"},{\"attributes\":{},\"id\":\"5266\",\"type\":\"BasicTickFormatter\"},{\"attributes\":{},\"id\":\"5036\",\"type\":\"BasicTicker\"},{\"attributes\":{},\"id\":\"5270\",\"type\":\"Selection\"},{\"attributes\":{},\"id\":\"5043\",\"type\":\"ResetTool\"},{\"attributes\":{\"line_color\":\"blue\",\"x\":{\"field\":\"x\"},\"y\":{\"field\":\"y\"}},\"id\":\"5054\",\"type\":\"Line\"},{\"attributes\":{\"data\":{\"x\":{\"__ndarray__\":\"AAAAAAAAAACamZmZmZm5P5qZmZmZmck/NDMzMzMz0z+amZmZmZnZPwAAAAAAAOA/NDMzMzMz4z9nZmZmZmbmP5qZmZmZmek/zczMzMzM7D8AAAAAAADwPw==\",\"dtype\":\"float64\",\"order\":\"little\",\"shape\":[11]},\"y\":{\"__ndarray__\":\"SQwCK4cW6T9yHZqfHqvSP0/m3CqTouS/aRgoS0S1AcCgh6oSSWESwMKUpF3k2x/AXcypCTX7KMAmq79WlVMywDP+pUiXmjnAUVJL+U82QcAH+oO1yW1GwA==\",\"dtype\":\"float64\",\"order\":\"little\",\"shape\":[11]}},\"selected\":{\"id\":\"5268\"},\"selection_policy\":{\"id\":\"5269\"}},\"id\":\"5053\",\"type\":\"ColumnDataSource\"},{\"attributes\":{\"axis\":{\"id\":\"5035\"},\"dimension\":1,\"ticker\":null},\"id\":\"5038\",\"type\":\"Grid\"},{\"attributes\":{},\"id\":\"5039\",\"type\":\"PanTool\"},{\"attributes\":{},\"id\":\"5042\",\"type\":\"SaveTool\"},{\"attributes\":{},\"id\":\"5040\",\"type\":\"WheelZoomTool\"},{\"attributes\":{\"axis\":{\"id\":\"5031\"},\"ticker\":null},\"id\":\"5034\",\"type\":\"Grid\"},{\"attributes\":{\"overlay\":{\"id\":\"5045\"}},\"id\":\"5041\",\"type\":\"BoxZoomTool\"},{\"attributes\":{\"source\":{\"id\":\"5058\"}},\"id\":\"5062\",\"type\":\"CDSView\"},{\"attributes\":{},\"id\":\"5044\",\"type\":\"HelpTool\"},{\"attributes\":{},\"id\":\"5032\",\"type\":\"BasicTicker\"}],\"root_ids\":[\"5022\"]},\"title\":\"Bokeh Application\",\"version\":\"2.2.3\"}};\n",
       "  var render_items = [{\"docid\":\"1737aa79-bf83-4b9a-82db-e8b06fb52df6\",\"root_ids\":[\"5022\"],\"roots\":{\"5022\":\"9cfea576-436f-467b-b072-71eee1513c11\"}}];\n",
       "  root.Bokeh.embed.embed_items_notebook(docs_json, render_items);\n",
       "\n",
       "  }\n",
       "  if (root.Bokeh !== undefined) {\n",
       "    embed_document(root);\n",
       "  } else {\n",
       "    var attempts = 0;\n",
       "    var timer = setInterval(function(root) {\n",
       "      if (root.Bokeh !== undefined) {\n",
       "        clearInterval(timer);\n",
       "        embed_document(root);\n",
       "      } else {\n",
       "        attempts++;\n",
       "        if (attempts > 100) {\n",
       "          clearInterval(timer);\n",
       "          console.log(\"Bokeh: ERROR: Unable to run BokehJS code because BokehJS library is missing\");\n",
       "        }\n",
       "      }\n",
       "    }, 10, root)\n",
       "  }\n",
       "})(window);"
      ],
      "application/vnd.bokehjs_exec.v0+json": ""
     },
     "metadata": {
      "application/vnd.bokehjs_exec.v0+json": {
       "id": "5022"
      }
     },
     "output_type": "display_data"
    },
    {
     "name": "stdout",
     "output_type": "stream",
     "text": [
      "t= 0.7000000000000001\n"
     ]
    },
    {
     "data": {
      "text/html": [
       "\n",
       "\n",
       "\n",
       "\n",
       "\n",
       "\n",
       "  <div class=\"bk-root\" id=\"423bd9a5-c9f0-4dde-835f-ffe077d3ae57\" data-root-id=\"5327\"></div>\n"
      ]
     },
     "metadata": {},
     "output_type": "display_data"
    },
    {
     "data": {
      "application/javascript": [
       "(function(root) {\n",
       "  function embed_document(root) {\n",
       "    \n",
       "  var docs_json = {\"83bbf4d6-0ec2-45a4-9146-cc8ce32b988c\":{\"roots\":{\"references\":[{\"attributes\":{\"below\":[{\"id\":\"5336\"}],\"center\":[{\"id\":\"5339\"},{\"id\":\"5343\"}],\"left\":[{\"id\":\"5340\"}],\"renderers\":[{\"id\":\"5361\"},{\"id\":\"5366\"}],\"title\":{\"id\":\"5578\"},\"toolbar\":{\"id\":\"5351\"},\"x_range\":{\"id\":\"5328\"},\"x_scale\":{\"id\":\"5332\"},\"y_range\":{\"id\":\"5330\"},\"y_scale\":{\"id\":\"5334\"}},\"id\":\"5327\",\"subtype\":\"Figure\",\"type\":\"Plot\"},{\"attributes\":{},\"id\":\"5345\",\"type\":\"WheelZoomTool\"},{\"attributes\":{},\"id\":\"5348\",\"type\":\"ResetTool\"},{\"attributes\":{\"formatter\":{\"id\":\"5582\"},\"ticker\":{\"id\":\"5337\"}},\"id\":\"5336\",\"type\":\"LinearAxis\"},{\"attributes\":{\"line_alpha\":0.1,\"line_color\":\"red\",\"x\":{\"field\":\"x\"},\"y\":{\"field\":\"y\"}},\"id\":\"5365\",\"type\":\"Line\"},{\"attributes\":{},\"id\":\"5341\",\"type\":\"BasicTicker\"},{\"attributes\":{\"axis\":{\"id\":\"5340\"},\"dimension\":1,\"ticker\":null},\"id\":\"5343\",\"type\":\"Grid\"},{\"attributes\":{\"line_color\":\"red\",\"x\":{\"field\":\"x\"},\"y\":{\"field\":\"y\"}},\"id\":\"5364\",\"type\":\"Line\"},{\"attributes\":{\"data_source\":{\"id\":\"5363\"},\"glyph\":{\"id\":\"5364\"},\"hover_glyph\":null,\"muted_glyph\":null,\"nonselection_glyph\":{\"id\":\"5365\"},\"selection_glyph\":null,\"view\":{\"id\":\"5367\"}},\"id\":\"5366\",\"type\":\"GlyphRenderer\"},{\"attributes\":{},\"id\":\"5328\",\"type\":\"DataRange1d\"},{\"attributes\":{},\"id\":\"5332\",\"type\":\"LinearScale\"},{\"attributes\":{\"formatter\":{\"id\":\"5580\"},\"ticker\":{\"id\":\"5341\"}},\"id\":\"5340\",\"type\":\"LinearAxis\"},{\"attributes\":{},\"id\":\"5330\",\"type\":\"DataRange1d\"},{\"attributes\":{\"data_source\":{\"id\":\"5358\"},\"glyph\":{\"id\":\"5359\"},\"hover_glyph\":null,\"muted_glyph\":null,\"nonselection_glyph\":{\"id\":\"5360\"},\"selection_glyph\":null,\"view\":{\"id\":\"5362\"}},\"id\":\"5361\",\"type\":\"GlyphRenderer\"},{\"attributes\":{\"active_drag\":\"auto\",\"active_inspect\":\"auto\",\"active_multi\":null,\"active_scroll\":\"auto\",\"active_tap\":\"auto\",\"tools\":[{\"id\":\"5344\"},{\"id\":\"5345\"},{\"id\":\"5346\"},{\"id\":\"5347\"},{\"id\":\"5348\"},{\"id\":\"5349\"}]},\"id\":\"5351\",\"type\":\"Toolbar\"},{\"attributes\":{\"source\":{\"id\":\"5358\"}},\"id\":\"5362\",\"type\":\"CDSView\"},{\"attributes\":{},\"id\":\"5585\",\"type\":\"UnionRenderers\"},{\"attributes\":{\"source\":{\"id\":\"5363\"}},\"id\":\"5367\",\"type\":\"CDSView\"},{\"attributes\":{},\"id\":\"5584\",\"type\":\"Selection\"},{\"attributes\":{\"bottom_units\":\"screen\",\"fill_alpha\":0.5,\"fill_color\":\"lightgrey\",\"left_units\":\"screen\",\"level\":\"overlay\",\"line_alpha\":1.0,\"line_color\":\"black\",\"line_dash\":[4,4],\"line_width\":2,\"right_units\":\"screen\",\"top_units\":\"screen\"},\"id\":\"5350\",\"type\":\"BoxAnnotation\"},{\"attributes\":{\"axis\":{\"id\":\"5336\"},\"ticker\":null},\"id\":\"5339\",\"type\":\"Grid\"},{\"attributes\":{},\"id\":\"5337\",\"type\":\"BasicTicker\"},{\"attributes\":{},\"id\":\"5580\",\"type\":\"BasicTickFormatter\"},{\"attributes\":{},\"id\":\"5349\",\"type\":\"HelpTool\"},{\"attributes\":{},\"id\":\"5582\",\"type\":\"BasicTickFormatter\"},{\"attributes\":{},\"id\":\"5334\",\"type\":\"LinearScale\"},{\"attributes\":{},\"id\":\"5587\",\"type\":\"UnionRenderers\"},{\"attributes\":{},\"id\":\"5347\",\"type\":\"SaveTool\"},{\"attributes\":{\"text\":\"\"},\"id\":\"5578\",\"type\":\"Title\"},{\"attributes\":{\"line_alpha\":0.1,\"line_color\":\"blue\",\"x\":{\"field\":\"x\"},\"y\":{\"field\":\"y\"}},\"id\":\"5360\",\"type\":\"Line\"},{\"attributes\":{\"data\":{\"x\":{\"__ndarray__\":\"AAAAAAAAAACamZmZmZm5P5qZmZmZmck/NDMzMzMz0z+amZmZmZnZPwAAAAAAAOA/NDMzMzMz4z9nZmZmZmbmP5qZmZmZmek/zczMzMzM7D8AAAAAAADwPw==\",\"dtype\":\"float64\",\"order\":\"little\",\"shape\":[11]},\"y\":{\"__ndarray__\":\"nxov3SQG5T9kZCuhSiDQP4L6wufb6eW/uozCVBuSAsDBJTznTVITwCi+popPxyDA/uRdmjNcKsAZ7ljRsmMzwH0jUK5qNTvAa9CHTbNqQsALUJLieztIwA==\",\"dtype\":\"float64\",\"order\":\"little\",\"shape\":[11]}},\"selected\":{\"id\":\"5586\"},\"selection_policy\":{\"id\":\"5587\"}},\"id\":\"5363\",\"type\":\"ColumnDataSource\"},{\"attributes\":{\"line_color\":\"blue\",\"x\":{\"field\":\"x\"},\"y\":{\"field\":\"y\"}},\"id\":\"5359\",\"type\":\"Line\"},{\"attributes\":{\"data\":{\"x\":{\"__ndarray__\":\"AAAAAAAAAACamZmZmZm5P5qZmZmZmck/NDMzMzMz0z+amZmZmZnZPwAAAAAAAOA/NDMzMzMz4z9nZmZmZmbmP5qZmZmZmek/zczMzMzM7D8AAAAAAADwPw==\",\"dtype\":\"float64\",\"order\":\"little\",\"shape\":[11]},\"y\":{\"__ndarray__\":\"nxov3SQG5T/WpXJ0yXSRP9Tyf4JHy/G/ER6SOYZeB8DwDafK710WwG0uvwCamCLAHMDdi7JoLMBBqM+h4HU0wNJUlpmKMTzA8Lruq4zAQsALUJLieztIwA==\",\"dtype\":\"float64\",\"order\":\"little\",\"shape\":[11]}},\"selected\":{\"id\":\"5584\"},\"selection_policy\":{\"id\":\"5585\"}},\"id\":\"5358\",\"type\":\"ColumnDataSource\"},{\"attributes\":{\"overlay\":{\"id\":\"5350\"}},\"id\":\"5346\",\"type\":\"BoxZoomTool\"},{\"attributes\":{},\"id\":\"5586\",\"type\":\"Selection\"},{\"attributes\":{},\"id\":\"5344\",\"type\":\"PanTool\"}],\"root_ids\":[\"5327\"]},\"title\":\"Bokeh Application\",\"version\":\"2.2.3\"}};\n",
       "  var render_items = [{\"docid\":\"83bbf4d6-0ec2-45a4-9146-cc8ce32b988c\",\"root_ids\":[\"5327\"],\"roots\":{\"5327\":\"423bd9a5-c9f0-4dde-835f-ffe077d3ae57\"}}];\n",
       "  root.Bokeh.embed.embed_items_notebook(docs_json, render_items);\n",
       "\n",
       "  }\n",
       "  if (root.Bokeh !== undefined) {\n",
       "    embed_document(root);\n",
       "  } else {\n",
       "    var attempts = 0;\n",
       "    var timer = setInterval(function(root) {\n",
       "      if (root.Bokeh !== undefined) {\n",
       "        clearInterval(timer);\n",
       "        embed_document(root);\n",
       "      } else {\n",
       "        attempts++;\n",
       "        if (attempts > 100) {\n",
       "          clearInterval(timer);\n",
       "          console.log(\"Bokeh: ERROR: Unable to run BokehJS code because BokehJS library is missing\");\n",
       "        }\n",
       "      }\n",
       "    }, 10, root)\n",
       "  }\n",
       "})(window);"
      ],
      "application/vnd.bokehjs_exec.v0+json": ""
     },
     "metadata": {
      "application/vnd.bokehjs_exec.v0+json": {
       "id": "5327"
      }
     },
     "output_type": "display_data"
    },
    {
     "name": "stdout",
     "output_type": "stream",
     "text": [
      "t= 0.8\n"
     ]
    },
    {
     "data": {
      "text/html": [
       "\n",
       "\n",
       "\n",
       "\n",
       "\n",
       "\n",
       "  <div class=\"bk-root\" id=\"c7dbcd92-7386-4155-baa2-44200991dc5b\" data-root-id=\"5643\"></div>\n"
      ]
     },
     "metadata": {},
     "output_type": "display_data"
    },
    {
     "data": {
      "application/javascript": [
       "(function(root) {\n",
       "  function embed_document(root) {\n",
       "    \n",
       "  var docs_json = {\"8ce7ec6c-e579-4ff1-a06e-02cf2b11c742\":{\"roots\":{\"references\":[{\"attributes\":{\"below\":[{\"id\":\"5652\"}],\"center\":[{\"id\":\"5655\"},{\"id\":\"5659\"}],\"left\":[{\"id\":\"5656\"}],\"renderers\":[{\"id\":\"5677\"},{\"id\":\"5682\"}],\"title\":{\"id\":\"5905\"},\"toolbar\":{\"id\":\"5667\"},\"x_range\":{\"id\":\"5644\"},\"x_scale\":{\"id\":\"5648\"},\"y_range\":{\"id\":\"5646\"},\"y_scale\":{\"id\":\"5650\"}},\"id\":\"5643\",\"subtype\":\"Figure\",\"type\":\"Plot\"},{\"attributes\":{\"bottom_units\":\"screen\",\"fill_alpha\":0.5,\"fill_color\":\"lightgrey\",\"left_units\":\"screen\",\"level\":\"overlay\",\"line_alpha\":1.0,\"line_color\":\"black\",\"line_dash\":[4,4],\"line_width\":2,\"right_units\":\"screen\",\"top_units\":\"screen\"},\"id\":\"5666\",\"type\":\"BoxAnnotation\"},{\"attributes\":{},\"id\":\"5644\",\"type\":\"DataRange1d\"},{\"attributes\":{},\"id\":\"5648\",\"type\":\"LinearScale\"},{\"attributes\":{},\"id\":\"5646\",\"type\":\"DataRange1d\"},{\"attributes\":{\"data_source\":{\"id\":\"5674\"},\"glyph\":{\"id\":\"5675\"},\"hover_glyph\":null,\"muted_glyph\":null,\"nonselection_glyph\":{\"id\":\"5676\"},\"selection_glyph\":null,\"view\":{\"id\":\"5678\"}},\"id\":\"5677\",\"type\":\"GlyphRenderer\"},{\"attributes\":{\"formatter\":{\"id\":\"5909\"},\"ticker\":{\"id\":\"5653\"}},\"id\":\"5652\",\"type\":\"LinearAxis\"},{\"attributes\":{\"formatter\":{\"id\":\"5907\"},\"ticker\":{\"id\":\"5657\"}},\"id\":\"5656\",\"type\":\"LinearAxis\"},{\"attributes\":{},\"id\":\"5653\",\"type\":\"BasicTicker\"},{\"attributes\":{},\"id\":\"5665\",\"type\":\"HelpTool\"},{\"attributes\":{},\"id\":\"5650\",\"type\":\"LinearScale\"},{\"attributes\":{\"axis\":{\"id\":\"5652\"},\"ticker\":null},\"id\":\"5655\",\"type\":\"Grid\"},{\"attributes\":{\"axis\":{\"id\":\"5656\"},\"dimension\":1,\"ticker\":null},\"id\":\"5659\",\"type\":\"Grid\"},{\"attributes\":{},\"id\":\"5657\",\"type\":\"BasicTicker\"},{\"attributes\":{\"data\":{\"x\":{\"__ndarray__\":\"AAAAAAAAAACamZmZmZm5P5qZmZmZmck/NDMzMzMz0z+amZmZmZnZPwAAAAAAAOA/NDMzMzMz4z9nZmZmZmbmP5qZmZmZmek/zczMzMzM7D8AAAAAAADwPw==\",\"dtype\":\"float64\",\"order\":\"little\",\"shape\":[11]},\"y\":{\"__ndarray__\":\"BqwcWmQ73z/14sQ8vBHUv8f+OkbIYfq/gIy6eLCvDcC7hN9HILoawBzGd34zeCXArlSEmwgIMMC2W9S0prc2wI8IwDvp6j7A+vrZw6xdRMDonx966h1KwA==\",\"dtype\":\"float64\",\"order\":\"little\",\"shape\":[11]}},\"selected\":{\"id\":\"5911\"},\"selection_policy\":{\"id\":\"5912\"}},\"id\":\"5674\",\"type\":\"ColumnDataSource\"},{\"attributes\":{\"active_drag\":\"auto\",\"active_inspect\":\"auto\",\"active_multi\":null,\"active_scroll\":\"auto\",\"active_tap\":\"auto\",\"tools\":[{\"id\":\"5660\"},{\"id\":\"5661\"},{\"id\":\"5662\"},{\"id\":\"5663\"},{\"id\":\"5664\"},{\"id\":\"5665\"}]},\"id\":\"5667\",\"type\":\"Toolbar\"},{\"attributes\":{},\"id\":\"5907\",\"type\":\"BasicTickFormatter\"},{\"attributes\":{},\"id\":\"5661\",\"type\":\"WheelZoomTool\"},{\"attributes\":{\"text\":\"\"},\"id\":\"5905\",\"type\":\"Title\"},{\"attributes\":{},\"id\":\"5660\",\"type\":\"PanTool\"},{\"attributes\":{\"overlay\":{\"id\":\"5666\"}},\"id\":\"5662\",\"type\":\"BoxZoomTool\"},{\"attributes\":{},\"id\":\"5663\",\"type\":\"SaveTool\"},{\"attributes\":{},\"id\":\"5664\",\"type\":\"ResetTool\"},{\"attributes\":{},\"id\":\"5911\",\"type\":\"Selection\"},{\"attributes\":{\"source\":{\"id\":\"5674\"}},\"id\":\"5678\",\"type\":\"CDSView\"},{\"attributes\":{\"line_color\":\"blue\",\"x\":{\"field\":\"x\"},\"y\":{\"field\":\"y\"}},\"id\":\"5675\",\"type\":\"Line\"},{\"attributes\":{},\"id\":\"5912\",\"type\":\"UnionRenderers\"},{\"attributes\":{\"data\":{\"x\":{\"__ndarray__\":\"AAAAAAAAAACamZmZmZm5P5qZmZmZmck/NDMzMzMz0z+amZmZmZnZPwAAAAAAAOA/NDMzMzMz4z9nZmZmZmbmP5qZmZmZmek/zczMzMzM7D8AAAAAAADwPw==\",\"dtype\":\"float64\",\"order\":\"little\",\"shape\":[11]},\"y\":{\"__ndarray__\":\"BqwcWmQ73z9AvPSDQmyhv1vXRS/NRPK/lYZBv9cGCMCu+IlJXioXwG7KqLXWXSPA6AuPot+4LcDGCrM17oI1wEfFlWRe0z3A0mF1yvL/Q8Donx966h1KwA==\",\"dtype\":\"float64\",\"order\":\"little\",\"shape\":[11]}},\"selected\":{\"id\":\"5913\"},\"selection_policy\":{\"id\":\"5914\"}},\"id\":\"5679\",\"type\":\"ColumnDataSource\"},{\"attributes\":{\"line_alpha\":0.1,\"line_color\":\"blue\",\"x\":{\"field\":\"x\"},\"y\":{\"field\":\"y\"}},\"id\":\"5676\",\"type\":\"Line\"},{\"attributes\":{},\"id\":\"5914\",\"type\":\"UnionRenderers\"},{\"attributes\":{\"data_source\":{\"id\":\"5679\"},\"glyph\":{\"id\":\"5680\"},\"hover_glyph\":null,\"muted_glyph\":null,\"nonselection_glyph\":{\"id\":\"5681\"},\"selection_glyph\":null,\"view\":{\"id\":\"5683\"}},\"id\":\"5682\",\"type\":\"GlyphRenderer\"},{\"attributes\":{},\"id\":\"5913\",\"type\":\"Selection\"},{\"attributes\":{\"line_color\":\"red\",\"x\":{\"field\":\"x\"},\"y\":{\"field\":\"y\"}},\"id\":\"5680\",\"type\":\"Line\"},{\"attributes\":{\"source\":{\"id\":\"5679\"}},\"id\":\"5683\",\"type\":\"CDSView\"},{\"attributes\":{\"line_alpha\":0.1,\"line_color\":\"red\",\"x\":{\"field\":\"x\"},\"y\":{\"field\":\"y\"}},\"id\":\"5681\",\"type\":\"Line\"},{\"attributes\":{},\"id\":\"5909\",\"type\":\"BasicTickFormatter\"}],\"root_ids\":[\"5643\"]},\"title\":\"Bokeh Application\",\"version\":\"2.2.3\"}};\n",
       "  var render_items = [{\"docid\":\"8ce7ec6c-e579-4ff1-a06e-02cf2b11c742\",\"root_ids\":[\"5643\"],\"roots\":{\"5643\":\"c7dbcd92-7386-4155-baa2-44200991dc5b\"}}];\n",
       "  root.Bokeh.embed.embed_items_notebook(docs_json, render_items);\n",
       "\n",
       "  }\n",
       "  if (root.Bokeh !== undefined) {\n",
       "    embed_document(root);\n",
       "  } else {\n",
       "    var attempts = 0;\n",
       "    var timer = setInterval(function(root) {\n",
       "      if (root.Bokeh !== undefined) {\n",
       "        clearInterval(timer);\n",
       "        embed_document(root);\n",
       "      } else {\n",
       "        attempts++;\n",
       "        if (attempts > 100) {\n",
       "          clearInterval(timer);\n",
       "          console.log(\"Bokeh: ERROR: Unable to run BokehJS code because BokehJS library is missing\");\n",
       "        }\n",
       "      }\n",
       "    }, 10, root)\n",
       "  }\n",
       "})(window);"
      ],
      "application/vnd.bokehjs_exec.v0+json": ""
     },
     "metadata": {
      "application/vnd.bokehjs_exec.v0+json": {
       "id": "5643"
      }
     },
     "output_type": "display_data"
    },
    {
     "name": "stdout",
     "output_type": "stream",
     "text": [
      "t= 0.9\n"
     ]
    },
    {
     "data": {
      "text/html": [
       "\n",
       "\n",
       "\n",
       "\n",
       "\n",
       "\n",
       "  <div class=\"bk-root\" id=\"c7efe6af-274d-4483-9bf6-b5388bb3fe84\" data-root-id=\"5970\"></div>\n"
      ]
     },
     "metadata": {},
     "output_type": "display_data"
    },
    {
     "data": {
      "application/javascript": [
       "(function(root) {\n",
       "  function embed_document(root) {\n",
       "    \n",
       "  var docs_json = {\"e83bf773-8f4b-4758-b953-10cee65d482d\":{\"roots\":{\"references\":[{\"attributes\":{\"below\":[{\"id\":\"5979\"}],\"center\":[{\"id\":\"5982\"},{\"id\":\"5986\"}],\"left\":[{\"id\":\"5983\"}],\"renderers\":[{\"id\":\"6004\"},{\"id\":\"6009\"}],\"title\":{\"id\":\"6243\"},\"toolbar\":{\"id\":\"5994\"},\"x_range\":{\"id\":\"5971\"},\"x_scale\":{\"id\":\"5975\"},\"y_range\":{\"id\":\"5973\"},\"y_scale\":{\"id\":\"5977\"}},\"id\":\"5970\",\"subtype\":\"Figure\",\"type\":\"Plot\"},{\"attributes\":{\"source\":{\"id\":\"6001\"}},\"id\":\"6005\",\"type\":\"CDSView\"},{\"attributes\":{\"data\":{\"x\":{\"__ndarray__\":\"AAAAAAAAAACamZmZmZm5P5qZmZmZmck/NDMzMzMz0z+amZmZmZnZPwAAAAAAAOA/NDMzMzMz4z9nZmZmZmbmP5qZmZmZmek/zczMzMzM7D8AAAAAAADwPw==\",\"dtype\":\"float64\",\"order\":\"little\",\"shape\":[11]},\"y\":{\"__ndarray__\":\"8NJNYhBY0T9QN5l/ZVLYv2cvf+OVu/q/7WnnWpwnDsCedcl+vGQbwFbGUqepKybAhZ5LJ36pMMDeOZBa9MM3wGgD+6QXS0DAwwk8FiqpRcD3zNEX2hVMwA==\",\"dtype\":\"float64\",\"order\":\"little\",\"shape\":[11]}},\"selected\":{\"id\":\"6251\"},\"selection_policy\":{\"id\":\"6252\"}},\"id\":\"6006\",\"type\":\"ColumnDataSource\"},{\"attributes\":{},\"id\":\"6250\",\"type\":\"UnionRenderers\"},{\"attributes\":{\"line_alpha\":0.1,\"line_color\":\"blue\",\"x\":{\"field\":\"x\"},\"y\":{\"field\":\"y\"}},\"id\":\"6003\",\"type\":\"Line\"},{\"attributes\":{\"data_source\":{\"id\":\"6006\"},\"glyph\":{\"id\":\"6007\"},\"hover_glyph\":null,\"muted_glyph\":null,\"nonselection_glyph\":{\"id\":\"6008\"},\"selection_glyph\":null,\"view\":{\"id\":\"6010\"}},\"id\":\"6009\",\"type\":\"GlyphRenderer\"},{\"attributes\":{},\"id\":\"6247\",\"type\":\"BasicTickFormatter\"},{\"attributes\":{\"line_color\":\"red\",\"x\":{\"field\":\"x\"},\"y\":{\"field\":\"y\"}},\"id\":\"6007\",\"type\":\"Line\"},{\"attributes\":{\"text\":\"\"},\"id\":\"6243\",\"type\":\"Title\"},{\"attributes\":{\"source\":{\"id\":\"6006\"}},\"id\":\"6010\",\"type\":\"CDSView\"},{\"attributes\":{},\"id\":\"6252\",\"type\":\"UnionRenderers\"},{\"attributes\":{},\"id\":\"6249\",\"type\":\"Selection\"},{\"attributes\":{},\"id\":\"6251\",\"type\":\"Selection\"},{\"attributes\":{\"line_alpha\":0.1,\"line_color\":\"red\",\"x\":{\"field\":\"x\"},\"y\":{\"field\":\"y\"}},\"id\":\"6008\",\"type\":\"Line\"},{\"attributes\":{},\"id\":\"6245\",\"type\":\"BasicTickFormatter\"},{\"attributes\":{\"bottom_units\":\"screen\",\"fill_alpha\":0.5,\"fill_color\":\"lightgrey\",\"left_units\":\"screen\",\"level\":\"overlay\",\"line_alpha\":1.0,\"line_color\":\"black\",\"line_dash\":[4,4],\"line_width\":2,\"right_units\":\"screen\",\"top_units\":\"screen\"},\"id\":\"5993\",\"type\":\"BoxAnnotation\"},{\"attributes\":{},\"id\":\"5971\",\"type\":\"DataRange1d\"},{\"attributes\":{},\"id\":\"5973\",\"type\":\"DataRange1d\"},{\"attributes\":{\"data_source\":{\"id\":\"6001\"},\"glyph\":{\"id\":\"6002\"},\"hover_glyph\":null,\"muted_glyph\":null,\"nonselection_glyph\":{\"id\":\"6003\"},\"selection_glyph\":null,\"view\":{\"id\":\"6005\"}},\"id\":\"6004\",\"type\":\"GlyphRenderer\"},{\"attributes\":{},\"id\":\"5975\",\"type\":\"LinearScale\"},{\"attributes\":{\"formatter\":{\"id\":\"6247\"},\"ticker\":{\"id\":\"5980\"}},\"id\":\"5979\",\"type\":\"LinearAxis\"},{\"attributes\":{\"formatter\":{\"id\":\"6245\"},\"ticker\":{\"id\":\"5984\"}},\"id\":\"5983\",\"type\":\"LinearAxis\"},{\"attributes\":{},\"id\":\"5977\",\"type\":\"LinearScale\"},{\"attributes\":{},\"id\":\"5992\",\"type\":\"HelpTool\"},{\"attributes\":{},\"id\":\"5980\",\"type\":\"BasicTicker\"},{\"attributes\":{\"axis\":{\"id\":\"5979\"},\"ticker\":null},\"id\":\"5982\",\"type\":\"Grid\"},{\"attributes\":{\"axis\":{\"id\":\"5983\"},\"dimension\":1,\"ticker\":null},\"id\":\"5986\",\"type\":\"Grid\"},{\"attributes\":{},\"id\":\"5984\",\"type\":\"BasicTicker\"},{\"attributes\":{\"line_color\":\"blue\",\"x\":{\"field\":\"x\"},\"y\":{\"field\":\"y\"}},\"id\":\"6002\",\"type\":\"Line\"},{\"attributes\":{\"data\":{\"x\":{\"__ndarray__\":\"AAAAAAAAAACamZmZmZm5P5qZmZmZmck/NDMzMzMz0z+amZmZmZnZPwAAAAAAAOA/NDMzMzMz4z9nZmZmZmbmP5qZmZmZmek/zczMzMzM7D8AAAAAAADwPw==\",\"dtype\":\"float64\",\"order\":\"little\",\"shape\":[11]},\"y\":{\"__ndarray__\":\"8NJNYhBY0T99KT4P3Zbmv9pea0meFQLAdULzlNlZEsB1nIbtWXsfwO1U+LSvjyjAXrnDsz36McAgUI6IpRo5wAuUMgo75EDAPyR6HIsORsD3zNEX2hVMwA==\",\"dtype\":\"float64\",\"order\":\"little\",\"shape\":[11]}},\"selected\":{\"id\":\"6249\"},\"selection_policy\":{\"id\":\"6250\"}},\"id\":\"6001\",\"type\":\"ColumnDataSource\"},{\"attributes\":{},\"id\":\"5988\",\"type\":\"WheelZoomTool\"},{\"attributes\":{\"active_drag\":\"auto\",\"active_inspect\":\"auto\",\"active_multi\":null,\"active_scroll\":\"auto\",\"active_tap\":\"auto\",\"tools\":[{\"id\":\"5987\"},{\"id\":\"5988\"},{\"id\":\"5989\"},{\"id\":\"5990\"},{\"id\":\"5991\"},{\"id\":\"5992\"}]},\"id\":\"5994\",\"type\":\"Toolbar\"},{\"attributes\":{},\"id\":\"5987\",\"type\":\"PanTool\"},{\"attributes\":{\"overlay\":{\"id\":\"5993\"}},\"id\":\"5989\",\"type\":\"BoxZoomTool\"},{\"attributes\":{},\"id\":\"5990\",\"type\":\"SaveTool\"},{\"attributes\":{},\"id\":\"5991\",\"type\":\"ResetTool\"}],\"root_ids\":[\"5970\"]},\"title\":\"Bokeh Application\",\"version\":\"2.2.3\"}};\n",
       "  var render_items = [{\"docid\":\"e83bf773-8f4b-4758-b953-10cee65d482d\",\"root_ids\":[\"5970\"],\"roots\":{\"5970\":\"c7efe6af-274d-4483-9bf6-b5388bb3fe84\"}}];\n",
       "  root.Bokeh.embed.embed_items_notebook(docs_json, render_items);\n",
       "\n",
       "  }\n",
       "  if (root.Bokeh !== undefined) {\n",
       "    embed_document(root);\n",
       "  } else {\n",
       "    var attempts = 0;\n",
       "    var timer = setInterval(function(root) {\n",
       "      if (root.Bokeh !== undefined) {\n",
       "        clearInterval(timer);\n",
       "        embed_document(root);\n",
       "      } else {\n",
       "        attempts++;\n",
       "        if (attempts > 100) {\n",
       "          clearInterval(timer);\n",
       "          console.log(\"Bokeh: ERROR: Unable to run BokehJS code because BokehJS library is missing\");\n",
       "        }\n",
       "      }\n",
       "    }, 10, root)\n",
       "  }\n",
       "})(window);"
      ],
      "application/vnd.bokehjs_exec.v0+json": ""
     },
     "metadata": {
      "application/vnd.bokehjs_exec.v0+json": {
       "id": "5970"
      }
     },
     "output_type": "display_data"
    },
    {
     "name": "stdout",
     "output_type": "stream",
     "text": [
      "t= 1.0\n"
     ]
    },
    {
     "data": {
      "text/html": [
       "\n",
       "\n",
       "\n",
       "\n",
       "\n",
       "\n",
       "  <div class=\"bk-root\" id=\"c49285df-8a37-4152-98cb-29d90d0bfe3f\" data-root-id=\"6308\"></div>\n"
      ]
     },
     "metadata": {},
     "output_type": "display_data"
    },
    {
     "data": {
      "application/javascript": [
       "(function(root) {\n",
       "  function embed_document(root) {\n",
       "    \n",
       "  var docs_json = {\"49dc3862-a6a7-45f8-a006-fa98ef1ae1e2\":{\"roots\":{\"references\":[{\"attributes\":{\"below\":[{\"id\":\"6317\"}],\"center\":[{\"id\":\"6320\"},{\"id\":\"6324\"}],\"left\":[{\"id\":\"6321\"}],\"renderers\":[{\"id\":\"6342\"},{\"id\":\"6347\"}],\"title\":{\"id\":\"6592\"},\"toolbar\":{\"id\":\"6332\"},\"x_range\":{\"id\":\"6309\"},\"x_scale\":{\"id\":\"6313\"},\"y_range\":{\"id\":\"6311\"},\"y_scale\":{\"id\":\"6315\"}},\"id\":\"6308\",\"subtype\":\"Figure\",\"type\":\"Plot\"},{\"attributes\":{\"formatter\":{\"id\":\"6594\"},\"ticker\":{\"id\":\"6322\"}},\"id\":\"6321\",\"type\":\"LinearAxis\"},{\"attributes\":{},\"id\":\"6330\",\"type\":\"HelpTool\"},{\"attributes\":{\"axis\":{\"id\":\"6321\"},\"dimension\":1,\"ticker\":null},\"id\":\"6324\",\"type\":\"Grid\"},{\"attributes\":{},\"id\":\"6322\",\"type\":\"BasicTicker\"},{\"attributes\":{\"data\":{\"x\":{\"__ndarray__\":\"AAAAAAAAAACamZmZmZm5P5qZmZmZmck/NDMzMzMz0z+amZmZmZnZPwAAAAAAAOA/NDMzMzMz4z9nZmZmZmbmP5qZmZmZmek/zczMzMzM7D8AAAAAAADwPw==\",\"dtype\":\"float64\",\"order\":\"little\",\"shape\":[11]},\"y\":{\"__ndarray__\":\"AAAAAAAAAAD7zxvEsabyv25XDqEpnwfArq1uzdg6FsCz6FtopFMiwJdnRGQG4ivAfBCWvZEMNMAAJgdfiqA7wPgLj1X0ZULAGx5vA/vTR8CJuk5XDyROwA==\",\"dtype\":\"float64\",\"order\":\"little\",\"shape\":[11]}},\"selected\":{\"id\":\"6598\"},\"selection_policy\":{\"id\":\"6599\"}},\"id\":\"6339\",\"type\":\"ColumnDataSource\"},{\"attributes\":{},\"id\":\"6326\",\"type\":\"WheelZoomTool\"},{\"attributes\":{\"active_drag\":\"auto\",\"active_inspect\":\"auto\",\"active_multi\":null,\"active_scroll\":\"auto\",\"active_tap\":\"auto\",\"tools\":[{\"id\":\"6325\"},{\"id\":\"6326\"},{\"id\":\"6327\"},{\"id\":\"6328\"},{\"id\":\"6329\"},{\"id\":\"6330\"}]},\"id\":\"6332\",\"type\":\"Toolbar\"},{\"attributes\":{},\"id\":\"6325\",\"type\":\"PanTool\"},{\"attributes\":{\"overlay\":{\"id\":\"6331\"}},\"id\":\"6327\",\"type\":\"BoxZoomTool\"},{\"attributes\":{},\"id\":\"6328\",\"type\":\"SaveTool\"},{\"attributes\":{},\"id\":\"6329\",\"type\":\"ResetTool\"},{\"attributes\":{\"source\":{\"id\":\"6339\"}},\"id\":\"6343\",\"type\":\"CDSView\"},{\"attributes\":{\"line_color\":\"blue\",\"x\":{\"field\":\"x\"},\"y\":{\"field\":\"y\"}},\"id\":\"6340\",\"type\":\"Line\"},{\"attributes\":{},\"id\":\"6600\",\"type\":\"Selection\"},{\"attributes\":{\"data\":{\"x\":{\"__ndarray__\":\"AAAAAAAAAACamZmZmZm5P5qZmZmZmck/NDMzMzMz0z+amZmZmZnZPwAAAAAAAOA/NDMzMzMz4z9nZmZmZmbmP5qZmZmZmek/zczMzMzM7D8AAAAAAADwPw==\",\"dtype\":\"float64\",\"order\":\"little\",\"shape\":[11]},\"y\":{\"__ndarray__\":\"AAAAAAAAAABqEotfTVjpv/b3pMLtOALA/DUJcVmAEsCU2xSyxgMgwCw/PM7aMynA4AKHBs6WMsAQQjx3Tig6wGBX3kqzv0HAjauBzB1nR8CJuk5XDyROwA==\",\"dtype\":\"float64\",\"order\":\"little\",\"shape\":[11]}},\"selected\":{\"id\":\"6600\"},\"selection_policy\":{\"id\":\"6601\"}},\"id\":\"6344\",\"type\":\"ColumnDataSource\"},{\"attributes\":{},\"id\":\"6598\",\"type\":\"Selection\"},{\"attributes\":{\"line_alpha\":0.1,\"line_color\":\"blue\",\"x\":{\"field\":\"x\"},\"y\":{\"field\":\"y\"}},\"id\":\"6341\",\"type\":\"Line\"},{\"attributes\":{\"data_source\":{\"id\":\"6344\"},\"glyph\":{\"id\":\"6345\"},\"hover_glyph\":null,\"muted_glyph\":null,\"nonselection_glyph\":{\"id\":\"6346\"},\"selection_glyph\":null,\"view\":{\"id\":\"6348\"}},\"id\":\"6347\",\"type\":\"GlyphRenderer\"},{\"attributes\":{},\"id\":\"6601\",\"type\":\"UnionRenderers\"},{\"attributes\":{},\"id\":\"6594\",\"type\":\"BasicTickFormatter\"},{\"attributes\":{\"line_color\":\"red\",\"x\":{\"field\":\"x\"},\"y\":{\"field\":\"y\"}},\"id\":\"6345\",\"type\":\"Line\"},{\"attributes\":{\"source\":{\"id\":\"6344\"}},\"id\":\"6348\",\"type\":\"CDSView\"},{\"attributes\":{},\"id\":\"6599\",\"type\":\"UnionRenderers\"},{\"attributes\":{},\"id\":\"6596\",\"type\":\"BasicTickFormatter\"},{\"attributes\":{\"line_alpha\":0.1,\"line_color\":\"red\",\"x\":{\"field\":\"x\"},\"y\":{\"field\":\"y\"}},\"id\":\"6346\",\"type\":\"Line\"},{\"attributes\":{\"text\":\"\"},\"id\":\"6592\",\"type\":\"Title\"},{\"attributes\":{\"bottom_units\":\"screen\",\"fill_alpha\":0.5,\"fill_color\":\"lightgrey\",\"left_units\":\"screen\",\"level\":\"overlay\",\"line_alpha\":1.0,\"line_color\":\"black\",\"line_dash\":[4,4],\"line_width\":2,\"right_units\":\"screen\",\"top_units\":\"screen\"},\"id\":\"6331\",\"type\":\"BoxAnnotation\"},{\"attributes\":{},\"id\":\"6309\",\"type\":\"DataRange1d\"},{\"attributes\":{\"data_source\":{\"id\":\"6339\"},\"glyph\":{\"id\":\"6340\"},\"hover_glyph\":null,\"muted_glyph\":null,\"nonselection_glyph\":{\"id\":\"6341\"},\"selection_glyph\":null,\"view\":{\"id\":\"6343\"}},\"id\":\"6342\",\"type\":\"GlyphRenderer\"},{\"attributes\":{},\"id\":\"6311\",\"type\":\"DataRange1d\"},{\"attributes\":{},\"id\":\"6313\",\"type\":\"LinearScale\"},{\"attributes\":{\"formatter\":{\"id\":\"6596\"},\"ticker\":{\"id\":\"6318\"}},\"id\":\"6317\",\"type\":\"LinearAxis\"},{\"attributes\":{},\"id\":\"6315\",\"type\":\"LinearScale\"},{\"attributes\":{},\"id\":\"6318\",\"type\":\"BasicTicker\"},{\"attributes\":{\"axis\":{\"id\":\"6317\"},\"ticker\":null},\"id\":\"6320\",\"type\":\"Grid\"}],\"root_ids\":[\"6308\"]},\"title\":\"Bokeh Application\",\"version\":\"2.2.3\"}};\n",
       "  var render_items = [{\"docid\":\"49dc3862-a6a7-45f8-a006-fa98ef1ae1e2\",\"root_ids\":[\"6308\"],\"roots\":{\"6308\":\"c49285df-8a37-4152-98cb-29d90d0bfe3f\"}}];\n",
       "  root.Bokeh.embed.embed_items_notebook(docs_json, render_items);\n",
       "\n",
       "  }\n",
       "  if (root.Bokeh !== undefined) {\n",
       "    embed_document(root);\n",
       "  } else {\n",
       "    var attempts = 0;\n",
       "    var timer = setInterval(function(root) {\n",
       "      if (root.Bokeh !== undefined) {\n",
       "        clearInterval(timer);\n",
       "        embed_document(root);\n",
       "      } else {\n",
       "        attempts++;\n",
       "        if (attempts > 100) {\n",
       "          clearInterval(timer);\n",
       "          console.log(\"Bokeh: ERROR: Unable to run BokehJS code because BokehJS library is missing\");\n",
       "        }\n",
       "      }\n",
       "    }, 10, root)\n",
       "  }\n",
       "})(window);"
      ],
      "application/vnd.bokehjs_exec.v0+json": ""
     },
     "metadata": {
      "application/vnd.bokehjs_exec.v0+json": {
       "id": "6308"
      }
     },
     "output_type": "display_data"
    }
   ],
   "source": [
    "# print(u[:,0])\n",
    "\n",
    "for i in range(m):\n",
    "    print(\"t=\",i*tau)\n",
    "    x = np.arange(0., 1.1, 0.1)\n",
    "    y = u[:,i]\n",
    "    y_acc = u_acc[:,i]\n",
    "    p = figure()\n",
    "    p.line(x=x,y=y,color='blue')\n",
    "    p.line(x=x,y=y_acc, color='red')\n",
    "    show(p)\n",
    "    \n",
    "    \n",
    "\n",
    "    \n"
   ]
  },
  {
   "cell_type": "code",
   "execution_count": 29,
   "metadata": {},
   "outputs": [
    {
     "name": "stdout",
     "output_type": "stream",
     "text": [
      "x= 0.4\n"
     ]
    },
    {
     "data": {
      "text/html": [
       "\n",
       "\n",
       "\n",
       "\n",
       "\n",
       "\n",
       "  <div class=\"bk-root\" id=\"7df97a10-8b0c-4d93-9b83-8bc71bd65b73\" data-root-id=\"6821\"></div>\n"
      ]
     },
     "metadata": {},
     "output_type": "display_data"
    },
    {
     "data": {
      "application/javascript": [
       "(function(root) {\n",
       "  function embed_document(root) {\n",
       "    \n",
       "  var docs_json = {\"ac637acc-2fc0-4df1-8044-ba5334b08af4\":{\"roots\":{\"references\":[{\"attributes\":{\"below\":[{\"id\":\"6830\"}],\"center\":[{\"id\":\"6833\"},{\"id\":\"6837\"}],\"left\":[{\"id\":\"6834\"}],\"renderers\":[{\"id\":\"6855\"},{\"id\":\"6860\"}],\"title\":{\"id\":\"7116\"},\"toolbar\":{\"id\":\"6845\"},\"x_range\":{\"id\":\"6822\"},\"x_scale\":{\"id\":\"6826\"},\"y_range\":{\"id\":\"6824\"},\"y_scale\":{\"id\":\"6828\"}},\"id\":\"6821\",\"subtype\":\"Figure\",\"type\":\"Plot\"},{\"attributes\":{},\"id\":\"7120\",\"type\":\"BasicTickFormatter\"},{\"attributes\":{\"source\":{\"id\":\"6852\"}},\"id\":\"6856\",\"type\":\"CDSView\"},{\"attributes\":{\"axis\":{\"id\":\"6834\"},\"dimension\":1,\"ticker\":null},\"id\":\"6837\",\"type\":\"Grid\"},{\"attributes\":{\"line_color\":\"blue\",\"x\":{\"field\":\"x\"},\"y\":{\"field\":\"y\"}},\"id\":\"6853\",\"type\":\"Line\"},{\"attributes\":{\"data\":{\"x\":{\"__ndarray__\":\"AAAAAAAAAACamZmZmZm5P5qZmZmZmck/NDMzMzMz0z+amZmZmZnZPwAAAAAAAOA/NDMzMzMz4z9nZmZmZmbmP5qZmZmZmek/zczMzMzM7D8AAAAAAADwPw==\",\"dtype\":\"float64\",\"order\":\"little\",\"shape\":[11]},\"y\":{\"__ndarray__\":\"WMRTYVtk0r9slnIn7NHnv8ZjvWkEFvS/UqUdT9U4/b8mPUsc/rQDwKAmck0GYQnAVMRh9cysD8DBJTznTVITwK74iUleKhfAnnXJfrxkG8CU2xSyxgMgwA==\",\"dtype\":\"float64\",\"order\":\"little\",\"shape\":[11]}},\"selected\":{\"id\":\"7124\"},\"selection_policy\":{\"id\":\"7125\"}},\"id\":\"6857\",\"type\":\"ColumnDataSource\"},{\"attributes\":{\"line_alpha\":0.1,\"line_color\":\"blue\",\"x\":{\"field\":\"x\"},\"y\":{\"field\":\"y\"}},\"id\":\"6854\",\"type\":\"Line\"},{\"attributes\":{\"data_source\":{\"id\":\"6857\"},\"glyph\":{\"id\":\"6858\"},\"hover_glyph\":null,\"muted_glyph\":null,\"nonselection_glyph\":{\"id\":\"6859\"},\"selection_glyph\":null,\"view\":{\"id\":\"6861\"}},\"id\":\"6860\",\"type\":\"GlyphRenderer\"},{\"attributes\":{\"formatter\":{\"id\":\"7120\"},\"ticker\":{\"id\":\"6831\"}},\"id\":\"6830\",\"type\":\"LinearAxis\"},{\"attributes\":{\"line_color\":\"red\",\"x\":{\"field\":\"x\"},\"y\":{\"field\":\"y\"}},\"id\":\"6858\",\"type\":\"Line\"},{\"attributes\":{\"source\":{\"id\":\"6857\"}},\"id\":\"6861\",\"type\":\"CDSView\"},{\"attributes\":{\"line_alpha\":0.1,\"line_color\":\"red\",\"x\":{\"field\":\"x\"},\"y\":{\"field\":\"y\"}},\"id\":\"6859\",\"type\":\"Line\"},{\"attributes\":{},\"id\":\"7125\",\"type\":\"UnionRenderers\"},{\"attributes\":{},\"id\":\"6838\",\"type\":\"PanTool\"},{\"attributes\":{},\"id\":\"6822\",\"type\":\"DataRange1d\"},{\"attributes\":{\"bottom_units\":\"screen\",\"fill_alpha\":0.5,\"fill_color\":\"lightgrey\",\"left_units\":\"screen\",\"level\":\"overlay\",\"line_alpha\":1.0,\"line_color\":\"black\",\"line_dash\":[4,4],\"line_width\":2,\"right_units\":\"screen\",\"top_units\":\"screen\"},\"id\":\"6844\",\"type\":\"BoxAnnotation\"},{\"attributes\":{\"data\":{\"x\":{\"__ndarray__\":\"AAAAAAAAAACamZmZmZm5P5qZmZmZmck/NDMzMzMz0z+amZmZmZnZPwAAAAAAAOA/NDMzMzMz4z9nZmZmZmbmP5qZmZmZmek/zczMzMzM7D8AAAAAAADwPw==\",\"dtype\":\"float64\",\"order\":\"little\",\"shape\":[11]},\"y\":{\"__ndarray__\":\"VMRTYVtk0r+PTRyJOKXqv9vYxy3TB/e/T9FnK4roAMDy4GfK4uIGwJUW/VGefQ3AoIeqEklhEsDwDafK710WwLuE30cguhrAdZyG7Vl7H8Cz6FtopFMiwA==\",\"dtype\":\"float64\",\"order\":\"little\",\"shape\":[11]}},\"selected\":{\"id\":\"7122\"},\"selection_policy\":{\"id\":\"7123\"}},\"id\":\"6852\",\"type\":\"ColumnDataSource\"},{\"attributes\":{},\"id\":\"7122\",\"type\":\"Selection\"},{\"attributes\":{},\"id\":\"6841\",\"type\":\"SaveTool\"},{\"attributes\":{\"overlay\":{\"id\":\"6844\"}},\"id\":\"6840\",\"type\":\"BoxZoomTool\"},{\"attributes\":{},\"id\":\"6839\",\"type\":\"WheelZoomTool\"},{\"attributes\":{},\"id\":\"6831\",\"type\":\"BasicTicker\"},{\"attributes\":{},\"id\":\"6843\",\"type\":\"HelpTool\"},{\"attributes\":{},\"id\":\"6842\",\"type\":\"ResetTool\"},{\"attributes\":{\"formatter\":{\"id\":\"7118\"},\"ticker\":{\"id\":\"6835\"}},\"id\":\"6834\",\"type\":\"LinearAxis\"},{\"attributes\":{},\"id\":\"6824\",\"type\":\"DataRange1d\"},{\"attributes\":{},\"id\":\"6828\",\"type\":\"LinearScale\"},{\"attributes\":{},\"id\":\"6835\",\"type\":\"BasicTicker\"},{\"attributes\":{},\"id\":\"7123\",\"type\":\"UnionRenderers\"},{\"attributes\":{\"text\":\"\"},\"id\":\"7116\",\"type\":\"Title\"},{\"attributes\":{},\"id\":\"7124\",\"type\":\"Selection\"},{\"attributes\":{},\"id\":\"6826\",\"type\":\"LinearScale\"},{\"attributes\":{\"data_source\":{\"id\":\"6852\"},\"glyph\":{\"id\":\"6853\"},\"hover_glyph\":null,\"muted_glyph\":null,\"nonselection_glyph\":{\"id\":\"6854\"},\"selection_glyph\":null,\"view\":{\"id\":\"6856\"}},\"id\":\"6855\",\"type\":\"GlyphRenderer\"},{\"attributes\":{},\"id\":\"7118\",\"type\":\"BasicTickFormatter\"},{\"attributes\":{\"active_drag\":\"auto\",\"active_inspect\":\"auto\",\"active_multi\":null,\"active_scroll\":\"auto\",\"active_tap\":\"auto\",\"tools\":[{\"id\":\"6838\"},{\"id\":\"6839\"},{\"id\":\"6840\"},{\"id\":\"6841\"},{\"id\":\"6842\"},{\"id\":\"6843\"}]},\"id\":\"6845\",\"type\":\"Toolbar\"},{\"attributes\":{\"axis\":{\"id\":\"6830\"},\"ticker\":null},\"id\":\"6833\",\"type\":\"Grid\"}],\"root_ids\":[\"6821\"]},\"title\":\"Bokeh Application\",\"version\":\"2.2.3\"}};\n",
       "  var render_items = [{\"docid\":\"ac637acc-2fc0-4df1-8044-ba5334b08af4\",\"root_ids\":[\"6821\"],\"roots\":{\"6821\":\"7df97a10-8b0c-4d93-9b83-8bc71bd65b73\"}}];\n",
       "  root.Bokeh.embed.embed_items_notebook(docs_json, render_items);\n",
       "\n",
       "  }\n",
       "  if (root.Bokeh !== undefined) {\n",
       "    embed_document(root);\n",
       "  } else {\n",
       "    var attempts = 0;\n",
       "    var timer = setInterval(function(root) {\n",
       "      if (root.Bokeh !== undefined) {\n",
       "        clearInterval(timer);\n",
       "        embed_document(root);\n",
       "      } else {\n",
       "        attempts++;\n",
       "        if (attempts > 100) {\n",
       "          clearInterval(timer);\n",
       "          console.log(\"Bokeh: ERROR: Unable to run BokehJS code because BokehJS library is missing\");\n",
       "        }\n",
       "      }\n",
       "    }, 10, root)\n",
       "  }\n",
       "})(window);"
      ],
      "application/vnd.bokehjs_exec.v0+json": ""
     },
     "metadata": {
      "application/vnd.bokehjs_exec.v0+json": {
       "id": "6821"
      }
     },
     "output_type": "display_data"
    }
   ],
   "source": [
    "for i in range(n):\n",
    "    t = np.arange(0., 1.1, 0.1)\n",
    "    y = u[i,:]\n",
    "    y_acc = u_acc[i,:]\n",
    "    p = figure()\n",
    "    p.line(x=x,y=y,color='blue')\n",
    "    p.line(x=x,y=y_acc, color='red')\n",
    "    if i == 4 :\n",
    "        print(\"x=\",i*h)\n",
    "        show(p)"
   ]
  },
  {
   "cell_type": "code",
   "execution_count": null,
   "metadata": {},
   "outputs": [],
   "source": []
  }
 ],
 "metadata": {
  "kernelspec": {
   "display_name": "Python 3",
   "language": "python",
   "name": "python3"
  },
  "language_info": {
   "codemirror_mode": {
    "name": "ipython",
    "version": 3
   },
   "file_extension": ".py",
   "mimetype": "text/x-python",
   "name": "python",
   "nbconvert_exporter": "python",
   "pygments_lexer": "ipython3",
   "version": "3.8.2"
  }
 },
 "nbformat": 4,
 "nbformat_minor": 4
}
